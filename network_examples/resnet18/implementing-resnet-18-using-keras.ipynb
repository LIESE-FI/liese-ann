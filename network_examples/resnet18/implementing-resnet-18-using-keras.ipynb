{
 "cells": [
  {
   "cell_type": "markdown",
   "metadata": {
    "papermill": {
     "duration": 0.011724,
     "end_time": "2021-01-28T17:02:50.939637",
     "exception": false,
     "start_time": "2021-01-28T17:02:50.927913",
     "status": "completed"
    },
    "tags": []
   },
   "source": [
    "# Implementación de Resnet 18 con Keras"
   ]
  },
  {
   "cell_type": "markdown",
   "metadata": {},
   "source": [
    "## Instalación de dependencias"
   ]
  },
  {
   "cell_type": "code",
   "execution_count": 1,
   "metadata": {},
   "outputs": [
    {
     "name": "stdout",
     "output_type": "stream",
     "text": [
      "Requirement already satisfied: numpy in ./venv/lib/python3.12/site-packages (1.26.4)\n",
      "Requirement already satisfied: pandas in ./venv/lib/python3.12/site-packages (2.2.3)\n",
      "Requirement already satisfied: matplotlib in ./venv/lib/python3.12/site-packages (3.9.2)\n",
      "Requirement already satisfied: tensorflow in ./venv/lib/python3.12/site-packages (2.18.0)\n",
      "Requirement already satisfied: scikit-learn in ./venv/lib/python3.12/site-packages (1.5.2)\n",
      "Requirement already satisfied: setuptools in ./venv/lib/python3.12/site-packages (75.3.0)\n",
      "Requirement already satisfied: python-dateutil>=2.8.2 in ./venv/lib/python3.12/site-packages (from pandas) (2.9.0.post0)\n",
      "Requirement already satisfied: pytz>=2020.1 in ./venv/lib/python3.12/site-packages (from pandas) (2024.2)\n",
      "Requirement already satisfied: tzdata>=2022.7 in ./venv/lib/python3.12/site-packages (from pandas) (2024.2)\n",
      "Requirement already satisfied: contourpy>=1.0.1 in ./venv/lib/python3.12/site-packages (from matplotlib) (1.3.0)\n",
      "Requirement already satisfied: cycler>=0.10 in ./venv/lib/python3.12/site-packages (from matplotlib) (0.12.1)\n",
      "Requirement already satisfied: fonttools>=4.22.0 in ./venv/lib/python3.12/site-packages (from matplotlib) (4.54.1)\n",
      "Requirement already satisfied: kiwisolver>=1.3.1 in ./venv/lib/python3.12/site-packages (from matplotlib) (1.4.7)\n",
      "Requirement already satisfied: packaging>=20.0 in ./venv/lib/python3.12/site-packages (from matplotlib) (24.1)\n",
      "Requirement already satisfied: pillow>=8 in ./venv/lib/python3.12/site-packages (from matplotlib) (11.0.0)\n",
      "Requirement already satisfied: pyparsing>=2.3.1 in ./venv/lib/python3.12/site-packages (from matplotlib) (3.2.0)\n",
      "Requirement already satisfied: absl-py>=1.0.0 in ./venv/lib/python3.12/site-packages (from tensorflow) (2.1.0)\n",
      "Requirement already satisfied: astunparse>=1.6.0 in ./venv/lib/python3.12/site-packages (from tensorflow) (1.6.3)\n",
      "Requirement already satisfied: flatbuffers>=24.3.25 in ./venv/lib/python3.12/site-packages (from tensorflow) (24.3.25)\n",
      "Requirement already satisfied: gast!=0.5.0,!=0.5.1,!=0.5.2,>=0.2.1 in ./venv/lib/python3.12/site-packages (from tensorflow) (0.6.0)\n",
      "Requirement already satisfied: google-pasta>=0.1.1 in ./venv/lib/python3.12/site-packages (from tensorflow) (0.2.0)\n",
      "Requirement already satisfied: libclang>=13.0.0 in ./venv/lib/python3.12/site-packages (from tensorflow) (18.1.1)\n",
      "Requirement already satisfied: opt-einsum>=2.3.2 in ./venv/lib/python3.12/site-packages (from tensorflow) (3.4.0)\n",
      "Requirement already satisfied: protobuf!=4.21.0,!=4.21.1,!=4.21.2,!=4.21.3,!=4.21.4,!=4.21.5,<6.0.0dev,>=3.20.3 in ./venv/lib/python3.12/site-packages (from tensorflow) (5.28.3)\n",
      "Requirement already satisfied: requests<3,>=2.21.0 in ./venv/lib/python3.12/site-packages (from tensorflow) (2.32.3)\n",
      "Requirement already satisfied: six>=1.12.0 in ./venv/lib/python3.12/site-packages (from tensorflow) (1.16.0)\n",
      "Requirement already satisfied: termcolor>=1.1.0 in ./venv/lib/python3.12/site-packages (from tensorflow) (2.5.0)\n",
      "Requirement already satisfied: typing-extensions>=3.6.6 in ./venv/lib/python3.12/site-packages (from tensorflow) (4.12.2)\n",
      "Requirement already satisfied: wrapt>=1.11.0 in ./venv/lib/python3.12/site-packages (from tensorflow) (1.16.0)\n",
      "Requirement already satisfied: grpcio<2.0,>=1.24.3 in ./venv/lib/python3.12/site-packages (from tensorflow) (1.67.1)\n",
      "Requirement already satisfied: tensorboard<2.19,>=2.18 in ./venv/lib/python3.12/site-packages (from tensorflow) (2.18.0)\n",
      "Requirement already satisfied: keras>=3.5.0 in ./venv/lib/python3.12/site-packages (from tensorflow) (3.6.0)\n",
      "Requirement already satisfied: h5py>=3.11.0 in ./venv/lib/python3.12/site-packages (from tensorflow) (3.12.1)\n",
      "Requirement already satisfied: ml-dtypes<0.5.0,>=0.4.0 in ./venv/lib/python3.12/site-packages (from tensorflow) (0.4.1)\n",
      "Requirement already satisfied: scipy>=1.6.0 in ./venv/lib/python3.12/site-packages (from scikit-learn) (1.14.1)\n",
      "Requirement already satisfied: joblib>=1.2.0 in ./venv/lib/python3.12/site-packages (from scikit-learn) (1.4.2)\n",
      "Requirement already satisfied: threadpoolctl>=3.1.0 in ./venv/lib/python3.12/site-packages (from scikit-learn) (3.5.0)\n",
      "Requirement already satisfied: wheel<1.0,>=0.23.0 in ./venv/lib/python3.12/site-packages (from astunparse>=1.6.0->tensorflow) (0.44.0)\n",
      "Requirement already satisfied: rich in ./venv/lib/python3.12/site-packages (from keras>=3.5.0->tensorflow) (13.9.3)\n",
      "Requirement already satisfied: namex in ./venv/lib/python3.12/site-packages (from keras>=3.5.0->tensorflow) (0.0.8)\n",
      "Requirement already satisfied: optree in ./venv/lib/python3.12/site-packages (from keras>=3.5.0->tensorflow) (0.13.0)\n",
      "Requirement already satisfied: charset-normalizer<4,>=2 in ./venv/lib/python3.12/site-packages (from requests<3,>=2.21.0->tensorflow) (3.4.0)\n",
      "Requirement already satisfied: idna<4,>=2.5 in ./venv/lib/python3.12/site-packages (from requests<3,>=2.21.0->tensorflow) (3.10)\n",
      "Requirement already satisfied: urllib3<3,>=1.21.1 in ./venv/lib/python3.12/site-packages (from requests<3,>=2.21.0->tensorflow) (2.2.3)\n",
      "Requirement already satisfied: certifi>=2017.4.17 in ./venv/lib/python3.12/site-packages (from requests<3,>=2.21.0->tensorflow) (2024.8.30)\n",
      "Requirement already satisfied: markdown>=2.6.8 in ./venv/lib/python3.12/site-packages (from tensorboard<2.19,>=2.18->tensorflow) (3.7)\n",
      "Requirement already satisfied: tensorboard-data-server<0.8.0,>=0.7.0 in ./venv/lib/python3.12/site-packages (from tensorboard<2.19,>=2.18->tensorflow) (0.7.2)\n",
      "Requirement already satisfied: werkzeug>=1.0.1 in ./venv/lib/python3.12/site-packages (from tensorboard<2.19,>=2.18->tensorflow) (3.0.6)\n",
      "Requirement already satisfied: MarkupSafe>=2.1.1 in ./venv/lib/python3.12/site-packages (from werkzeug>=1.0.1->tensorboard<2.19,>=2.18->tensorflow) (3.0.2)\n",
      "Requirement already satisfied: markdown-it-py>=2.2.0 in ./venv/lib/python3.12/site-packages (from rich->keras>=3.5.0->tensorflow) (3.0.0)\n",
      "Requirement already satisfied: pygments<3.0.0,>=2.13.0 in ./venv/lib/python3.12/site-packages (from rich->keras>=3.5.0->tensorflow) (2.18.0)\n",
      "Requirement already satisfied: mdurl~=0.1 in ./venv/lib/python3.12/site-packages (from markdown-it-py>=2.2.0->rich->keras>=3.5.0->tensorflow) (0.1.2)\n",
      "\n",
      "\u001b[1m[\u001b[0m\u001b[34;49mnotice\u001b[0m\u001b[1;39;49m]\u001b[0m\u001b[39;49m A new release of pip is available: \u001b[0m\u001b[31;49m24.2\u001b[0m\u001b[39;49m -> \u001b[0m\u001b[32;49m24.3.1\u001b[0m\n",
      "\u001b[1m[\u001b[0m\u001b[34;49mnotice\u001b[0m\u001b[1;39;49m]\u001b[0m\u001b[39;49m To update, run: \u001b[0m\u001b[32;49mpip install --upgrade pip\u001b[0m\n",
      "Note: you may need to restart the kernel to use updated packages.\n"
     ]
    }
   ],
   "source": [
    "%pip install numpy pandas matplotlib tensorflow scikit-learn setuptools"
   ]
  },
  {
   "cell_type": "markdown",
   "metadata": {
    "papermill": {
     "duration": 0.010293,
     "end_time": "2021-01-28T17:02:50.982037",
     "exception": false,
     "start_time": "2021-01-28T17:02:50.971744",
     "status": "completed"
    },
    "tags": []
   },
   "source": [
    "## Preprocesaimento"
   ]
  },
  {
   "cell_type": "code",
   "execution_count": 2,
   "metadata": {
    "_cell_guid": "b1076dfc-b9ad-4769-8c92-a6c4dae69d19",
    "_uuid": "8f2839f25d086af736a60e9eeb907d3b93b6e0e5",
    "execution": {
     "iopub.execute_input": "2021-01-28T17:02:51.008550Z",
     "iopub.status.busy": "2021-01-28T17:02:51.007824Z",
     "iopub.status.idle": "2021-01-28T17:02:56.073464Z",
     "shell.execute_reply": "2021-01-28T17:02:56.072970Z"
    },
    "papermill": {
     "duration": 5.081049,
     "end_time": "2021-01-28T17:02:56.073630",
     "exception": false,
     "start_time": "2021-01-28T17:02:50.992581",
     "status": "completed"
    },
    "tags": []
   },
   "outputs": [
    {
     "name": "stderr",
     "output_type": "stream",
     "text": [
      "2024-11-06 15:40:33.905372: I tensorflow/core/util/port.cc:153] oneDNN custom operations are on. You may see slightly different numerical results due to floating-point round-off errors from different computation orders. To turn them off, set the environment variable `TF_ENABLE_ONEDNN_OPTS=0`.\n",
      "2024-11-06 15:40:33.924081: I external/local_xla/xla/tsl/cuda/cudart_stub.cc:32] Could not find cuda drivers on your machine, GPU will not be used.\n",
      "2024-11-06 15:40:34.139290: I external/local_xla/xla/tsl/cuda/cudart_stub.cc:32] Could not find cuda drivers on your machine, GPU will not be used.\n",
      "2024-11-06 15:40:34.279546: E external/local_xla/xla/stream_executor/cuda/cuda_fft.cc:477] Unable to register cuFFT factory: Attempting to register factory for plugin cuFFT when one has already been registered\n",
      "WARNING: All log messages before absl::InitializeLog() is called are written to STDERR\n",
      "E0000 00:00:1730929234.404369   26732 cuda_dnn.cc:8310] Unable to register cuDNN factory: Attempting to register factory for plugin cuDNN when one has already been registered\n",
      "E0000 00:00:1730929234.440390   26732 cuda_blas.cc:1418] Unable to register cuBLAS factory: Attempting to register factory for plugin cuBLAS when one has already been registered\n",
      "2024-11-06 15:40:34.718005: I tensorflow/core/platform/cpu_feature_guard.cc:210] This TensorFlow binary is optimized to use available CPU instructions in performance-critical operations.\n",
      "To enable the following instructions: AVX2 AVX512F AVX512_VNNI FMA, in other operations, rebuild TensorFlow with the appropriate compiler flags.\n"
     ]
    }
   ],
   "source": [
    "#Import Libraries\n",
    "import numpy as np\n",
    "import pandas as pd\n",
    "import matplotlib.pyplot as plt\n",
    "import tensorflow as tf\n",
    "import keras\n",
    "from tensorflow.keras import datasets,models,layers\n"
   ]
  },
  {
   "cell_type": "markdown",
   "metadata": {},
   "source": [
    "Cargar datos (para imágenes de manos)"
   ]
  },
  {
   "cell_type": "code",
   "execution_count": 3,
   "metadata": {
    "_cell_guid": "79c7e3d0-c299-4dcb-8224-4455121ee9b0",
    "_uuid": "d629ff2d2480ee46fbb7e2d37f6b5fab8052498a",
    "execution": {
     "iopub.execute_input": "2021-01-28T17:02:56.114685Z",
     "iopub.status.busy": "2021-01-28T17:02:56.113855Z",
     "iopub.status.idle": "2021-01-28T17:03:04.066189Z",
     "shell.execute_reply": "2021-01-28T17:03:04.065669Z"
    },
    "papermill": {
     "duration": 7.974654,
     "end_time": "2021-01-28T17:03:04.066293",
     "exception": false,
     "start_time": "2021-01-28T17:02:56.091639",
     "status": "completed"
    },
    "tags": []
   },
   "outputs": [
    {
     "name": "stderr",
     "output_type": "stream",
     "text": [
      "2024-11-06 15:40:36.975073: E external/local_xla/xla/stream_executor/cuda/cuda_driver.cc:152] failed call to cuInit: INTERNAL: CUDA error: Failed call to cuInit: UNKNOWN ERROR (303)\n",
      "2024-11-06 15:40:37.211412: I tensorflow/core/kernels/data/tf_record_dataset_op.cc:370] TFRecordDataset `buffer_size` is unspecified, default to 262144\n",
      "2024-11-06 15:40:38.698812: I tensorflow/core/framework/local_rendezvous.cc:405] Local rendezvous is aborting with status: OUT_OF_RANGE: End of sequence\n",
      "2024-11-06 15:40:40.588381: I tensorflow/core/framework/local_rendezvous.cc:405] Local rendezvous is aborting with status: OUT_OF_RANGE: End of sequence\n"
     ]
    },
    {
     "name": "stdout",
     "output_type": "stream",
     "text": [
      "X_train shape: (1512, 372, 372, 3)\n",
      "Y_train shape: (1512,)\n",
      "X_test shape: (72, 372, 372, 3)\n",
      "Y_test shape: (72,)\n",
      "X_valid shape: (144, 372, 372, 3)\n",
      "Y_valid shape: (144,)\n"
     ]
    }
   ],
   "source": [
    "# Define target size for images\n",
    "TARGET_HEIGHT = 372  # Adjust as needed\n",
    "TARGET_WIDTH = 372    # Adjust as needed\n",
    "\n",
    "def parse_tfrecord_fn(example):\n",
    "    # Define features based on the TFRecord schema\n",
    "    feature_description = {\n",
    "        'image/encoded': tf.io.FixedLenFeature([], tf.string),  # Encoded image\n",
    "        'image/object/class/label': tf.io.FixedLenFeature([], tf.int64)  # Label\n",
    "    }\n",
    "    # Parse the example\n",
    "    parsed_example = tf.io.parse_single_example(example, feature_description)\n",
    "\n",
    "    # Decode image from JPEG format and resize\n",
    "    image = tf.io.decode_jpeg(parsed_example['image/encoded'])\n",
    "    image = tf.image.resize(image, [TARGET_HEIGHT, TARGET_WIDTH])  # Resize to target shape\n",
    "    label = parsed_example['image/object/class/label']\n",
    "    \n",
    "    return image, label\n",
    "\n",
    "\n",
    "\n",
    "def load_data_as_tensors(tfrecord_path):\n",
    "    dataset = tf.data.TFRecordDataset(tfrecord_path)\n",
    "    dataset = dataset.map(parse_tfrecord_fn)\n",
    "    images, labels = [], []\n",
    "    for image, label in dataset:\n",
    "        images.append(image)\n",
    "        labels.append(label)\n",
    "    images = tf.stack(images)  # This should now work\n",
    "    labels = tf.stack(labels)   # This should now work\n",
    "    return images, labels\n",
    "\n",
    "\n",
    "\n",
    "# Paths to your TFRecord files\n",
    "train_path = \"data/train/Letters.tfrecord\"\n",
    "test_path = \"data/test/Letters.tfrecord\"\n",
    "valid_path = \"data/valid/Letters.tfrecord\"\n",
    "\n",
    "# Load and split data\n",
    "X_train, Y_train = load_data_as_tensors(train_path)\n",
    "X_test, Y_test = load_data_as_tensors(test_path)\n",
    "X_valid, Y_valid = load_data_as_tensors(valid_path)\n",
    "\n",
    "# Verify the data shapes\n",
    "print(\"X_train shape:\", X_train.shape)\n",
    "print(\"Y_train shape:\", Y_train.shape)\n",
    "print(\"X_test shape:\", X_test.shape)\n",
    "print(\"Y_test shape:\", Y_test.shape)\n",
    "print(\"X_valid shape:\", X_valid.shape)\n",
    "print(\"Y_valid shape:\", Y_valid.shape)\n",
    "\n"
   ]
  },
  {
   "cell_type": "markdown",
   "metadata": {},
   "source": [
    "Cargar datos (para imágenes de animales)"
   ]
  },
  {
   "cell_type": "code",
   "execution_count": 4,
   "metadata": {},
   "outputs": [],
   "source": [
    "# Cargar datos de CIFAR10\n",
    "from keras.datasets import cifar10\n",
    "(X_train, Y_train), (X_test, Y_test) = cifar10.load_data()\n"
   ]
  },
  {
   "cell_type": "markdown",
   "metadata": {},
   "source": [
    "Imagen de ejemplo"
   ]
  },
  {
   "cell_type": "code",
   "execution_count": 5,
   "metadata": {
    "execution": {
     "iopub.execute_input": "2021-01-28T17:03:04.148723Z",
     "iopub.status.busy": "2021-01-28T17:03:04.148035Z",
     "iopub.status.idle": "2021-01-28T17:03:04.329987Z",
     "shell.execute_reply": "2021-01-28T17:03:04.330415Z"
    },
    "papermill": {
     "duration": 0.224658,
     "end_time": "2021-01-28T17:03:04.330554",
     "exception": false,
     "start_time": "2021-01-28T17:03:04.105896",
     "status": "completed"
    },
    "tags": []
   },
   "outputs": [
    {
     "data": {
      "image/png": "[encoded data removed]",
      "text/plain": [
       "<Figure size 640x480 with 1 Axes>"
      ]
     },
     "metadata": {},
     "output_type": "display_data"
    }
   ],
   "source": [
    "import matplotlib.pyplot as plt\n",
    "\n",
    "# Normalize image for display\n",
    "def normalize_image(image):\n",
    "    return (image - tf.reduce_min(image)) / (tf.reduce_max(image) - tf.reduce_min(image))\n",
    "\n",
    "# Normalize the specific image before showing\n",
    "normalized_image = normalize_image(X_train[42])\n",
    "\n",
    "# Display the image\n",
    "plt.imshow(normalized_image)\n",
    "plt.axis('off')  # Hide axis ticks\n",
    "plt.show()\n"
   ]
  },
  {
   "cell_type": "code",
   "execution_count": 6,
   "metadata": {
    "execution": {
     "iopub.execute_input": "2021-01-28T17:03:04.414875Z",
     "iopub.status.busy": "2021-01-28T17:03:04.413614Z",
     "iopub.status.idle": "2021-01-28T17:03:04.665699Z",
     "shell.execute_reply": "2021-01-28T17:03:04.665209Z"
    },
    "papermill": {
     "duration": 0.296186,
     "end_time": "2021-01-28T17:03:04.665810",
     "exception": false,
     "start_time": "2021-01-28T17:03:04.369624",
     "status": "completed"
    },
    "tags": []
   },
   "outputs": [],
   "source": [
    "    # Assuming X_train and X_test are your image tensors\n",
    "    X_train = tf.cast(X_train, tf.float32)  # Cast to float32\n",
    "    X_test = tf.cast(X_test, tf.float32)    # Cast to float32\n",
    "\n",
    "    # Normalize to [0, 1]\n",
    "    X_train /= 255.0\n",
    "    X_test /= 255.0\n"
   ]
  },
  {
   "cell_type": "code",
   "execution_count": 7,
   "metadata": {
    "execution": {
     "iopub.execute_input": "2021-01-28T17:03:04.749429Z",
     "iopub.status.busy": "2021-01-28T17:03:04.748721Z",
     "iopub.status.idle": "2021-01-28T17:03:05.653280Z",
     "shell.execute_reply": "2021-01-28T17:03:05.652020Z"
    },
    "papermill": {
     "duration": 0.948321,
     "end_time": "2021-01-28T17:03:05.653392",
     "exception": false,
     "start_time": "2021-01-28T17:03:04.705071",
     "status": "completed"
    },
    "tags": []
   },
   "outputs": [],
   "source": [
    "import numpy as np\n",
    "from sklearn.model_selection import train_test_split\n",
    "\n",
    "X_train_np = X_train.numpy() if hasattr(X_train, 'numpy') else X_train\n",
    "Y_train_np = Y_train.numpy() if hasattr(Y_train, 'numpy') else Y_train\n",
    "\n",
    "X_train, X_val, Y_train, Y_val = train_test_split(X_train_np, Y_train_np, test_size=0.2, shuffle=True)\n"
   ]
  },
  {
   "cell_type": "code",
   "execution_count": 8,
   "metadata": {
    "execution": {
     "iopub.execute_input": "2021-01-28T17:03:05.740174Z",
     "iopub.status.busy": "2021-01-28T17:03:05.739327Z",
     "iopub.status.idle": "2021-01-28T17:03:05.753193Z",
     "shell.execute_reply": "2021-01-28T17:03:05.753711Z"
    },
    "papermill": {
     "duration": 0.061144,
     "end_time": "2021-01-28T17:03:05.753822",
     "exception": false,
     "start_time": "2021-01-28T17:03:05.692678",
     "status": "completed"
    },
    "tags": []
   },
   "outputs": [],
   "source": [
    "from sklearn.preprocessing import OneHotEncoder\n",
    "encoder = OneHotEncoder()\n",
    "encoder.fit(Y_train)\n",
    "Y_train = encoder.transform(Y_train).toarray()\n",
    "Y_test = encoder.transform(Y_test).toarray()\n",
    "Y_val =  encoder.transform(Y_val).toarray()"
   ]
  },
  {
   "cell_type": "markdown",
   "metadata": {
    "papermill": {
     "duration": 0.039249,
     "end_time": "2021-01-28T17:03:05.832061",
     "exception": false,
     "start_time": "2021-01-28T17:03:05.792812",
     "status": "completed"
    },
    "tags": []
   },
   "source": [
    "## Aumento de datos"
   ]
  },
  {
   "cell_type": "code",
   "execution_count": 9,
   "metadata": {
    "execution": {
     "iopub.execute_input": "2021-01-28T17:03:05.914904Z",
     "iopub.status.busy": "2021-01-28T17:03:05.914320Z",
     "iopub.status.idle": "2021-01-28T17:03:06.097913Z",
     "shell.execute_reply": "2021-01-28T17:03:06.098349Z"
    },
    "papermill": {
     "duration": 0.227438,
     "end_time": "2021-01-28T17:03:06.098483",
     "exception": false,
     "start_time": "2021-01-28T17:03:05.871045",
     "status": "completed"
    },
    "tags": []
   },
   "outputs": [],
   "source": [
    "from tensorflow.keras.preprocessing.image import ImageDataGenerator\n",
    "\n",
    "aug = ImageDataGenerator(horizontal_flip=True, width_shift_range=0.05,\n",
    "                             height_shift_range=0.05)\n",
    "aug.fit(X_train)"
   ]
  },
  {
   "cell_type": "markdown",
   "metadata": {
    "papermill": {
     "duration": 0.039002,
     "end_time": "2021-01-28T17:03:06.177205",
     "exception": false,
     "start_time": "2021-01-28T17:03:06.138203",
     "status": "completed"
    },
    "tags": []
   },
   "source": [
    "## Implementación de ResNet-18"
   ]
  },
  {
   "cell_type": "markdown",
   "metadata": {
    "papermill": {
     "duration": 0.03934,
     "end_time": "2021-01-28T17:03:06.255912",
     "exception": false,
     "start_time": "2021-01-28T17:03:06.216572",
     "status": "completed"
    },
    "tags": []
   },
   "source": [
    "Extraído de [Github](https://github.com/songrise/CNN_Keras)"
   ]
  },
  {
   "cell_type": "code",
   "execution_count": 10,
   "metadata": {
    "execution": {
     "iopub.execute_input": "2021-01-28T17:03:06.363704Z",
     "iopub.status.busy": "2021-01-28T17:03:06.362755Z",
     "iopub.status.idle": "2021-01-28T17:03:06.365000Z",
     "shell.execute_reply": "2021-01-28T17:03:06.365542Z"
    },
    "papermill": {
     "duration": 0.070069,
     "end_time": "2021-01-28T17:03:06.365686",
     "exception": false,
     "start_time": "2021-01-28T17:03:06.295617",
     "status": "completed"
    },
    "tags": []
   },
   "outputs": [],
   "source": [
    "\"\"\"\n",
    "ResNet-18\n",
    "Reference:\n",
    "[1] K. He et al. Deep Residual Learning for Image Recognition. CVPR, 2016\n",
    "[2] K. He, X. Zhang, S. Ren, and J. Sun. Delving deep into rectifiers:\n",
    "Surpassing human-level performance on imagenet classification. In\n",
    "ICCV, 2015.\n",
    "\"\"\"\n",
    "\n",
    "\n",
    "from keras.callbacks import EarlyStopping\n",
    "from keras.layers import Dense, Conv2D,  MaxPool2D, Flatten, GlobalAveragePooling2D,  BatchNormalization, Layer, Add\n",
    "from keras.models import Sequential\n",
    "from keras.models import Model\n",
    "import tensorflow as tf\n",
    "\n",
    "\n",
    "class ResnetBlock(Model):\n",
    "    \"\"\"\n",
    "    A standard resnet block.\n",
    "    \"\"\"\n",
    "\n",
    "    def __init__(self, channels: int, down_sample=False):\n",
    "        \"\"\"\n",
    "        channels: same as number of convolution kernels\n",
    "        \"\"\"\n",
    "        super().__init__()\n",
    "\n",
    "        self.__channels = channels\n",
    "        self.__down_sample = down_sample\n",
    "        self.__strides = [2, 1] if down_sample else [1, 1]\n",
    "\n",
    "        KERNEL_SIZE = (3, 3)\n",
    "        # use He initialization, instead of Xavier (a.k.a 'glorot_uniform' in Keras), as suggested in [2]\n",
    "        INIT_SCHEME = \"he_normal\"\n",
    "\n",
    "        self.conv_1 = Conv2D(self.__channels, strides=self.__strides[0],\n",
    "                             kernel_size=KERNEL_SIZE, padding=\"same\", kernel_initializer=INIT_SCHEME)\n",
    "        self.bn_1 = BatchNormalization()\n",
    "        self.conv_2 = Conv2D(self.__channels, strides=self.__strides[1],\n",
    "                             kernel_size=KERNEL_SIZE, padding=\"same\", kernel_initializer=INIT_SCHEME)\n",
    "        self.bn_2 = BatchNormalization()\n",
    "        self.merge = Add()\n",
    "\n",
    "        if self.__down_sample:\n",
    "            # perform down sampling using stride of 2, according to [1].\n",
    "            self.res_conv = Conv2D(\n",
    "                self.__channels, strides=2, kernel_size=(1, 1), kernel_initializer=INIT_SCHEME, padding=\"same\")\n",
    "            self.res_bn = BatchNormalization()\n",
    "\n",
    "    def call(self, inputs):\n",
    "        res = inputs\n",
    "\n",
    "        x = self.conv_1(inputs)\n",
    "        x = self.bn_1(x)\n",
    "        x = tf.nn.relu(x)\n",
    "        x = self.conv_2(x)\n",
    "        x = self.bn_2(x)\n",
    "\n",
    "        if self.__down_sample:\n",
    "            res = self.res_conv(res)\n",
    "            res = self.res_bn(res)\n",
    "\n",
    "        # if not perform down sample, then add a shortcut directly\n",
    "        x = self.merge([x, res])\n",
    "        out = tf.nn.relu(x)\n",
    "        return out\n",
    "\n",
    "\n",
    "class ResNet18(Model):\n",
    "\n",
    "    def __init__(self, num_classes, **kwargs):\n",
    "        \"\"\"\n",
    "            num_classes: number of classes in specific classification task.\n",
    "        \"\"\"\n",
    "        super().__init__(**kwargs)\n",
    "        self.conv_1 = Conv2D(64, (7, 7), strides=2,\n",
    "                             padding=\"same\", kernel_initializer=\"he_normal\")\n",
    "        self.init_bn = BatchNormalization()\n",
    "        self.pool_2 = MaxPool2D(pool_size=(2, 2), strides=2, padding=\"same\")\n",
    "        self.res_1_1 = ResnetBlock(64)\n",
    "        self.res_1_2 = ResnetBlock(64)\n",
    "        self.res_2_1 = ResnetBlock(128, down_sample=True)\n",
    "        self.res_2_2 = ResnetBlock(128)\n",
    "        self.res_3_1 = ResnetBlock(256, down_sample=True)\n",
    "        self.res_3_2 = ResnetBlock(256)\n",
    "        self.res_4_1 = ResnetBlock(512, down_sample=True)\n",
    "        self.res_4_2 = ResnetBlock(512)\n",
    "        self.avg_pool = GlobalAveragePooling2D()\n",
    "        self.flat = Flatten()\n",
    "        self.fc = Dense(num_classes, activation=\"softmax\")\n",
    "\n",
    "    def call(self, inputs):\n",
    "        out = self.conv_1(inputs)\n",
    "        out = self.init_bn(out)\n",
    "        out = tf.nn.relu(out)\n",
    "        out = self.pool_2(out)\n",
    "        for res_block in [self.res_1_1, self.res_1_2, self.res_2_1, self.res_2_2, self.res_3_1, self.res_3_2, self.res_4_1, self.res_4_2]:\n",
    "            out = res_block(out)\n",
    "        out = self.avg_pool(out)\n",
    "        out = self.flat(out)\n",
    "        out = self.fc(out)\n",
    "        return out\n",
    "\n"
   ]
  },
  {
   "cell_type": "markdown",
   "metadata": {},
   "source": [
    "Configuración del modelo"
   ]
  },
  {
   "cell_type": "code",
   "execution_count": 11,
   "metadata": {
    "execution": {
     "iopub.execute_input": "2021-01-28T17:03:06.458854Z",
     "iopub.status.busy": "2021-01-28T17:03:06.458257Z",
     "iopub.status.idle": "2021-01-28T17:03:09.469155Z",
     "shell.execute_reply": "2021-01-28T17:03:09.468649Z"
    },
    "papermill": {
     "duration": 3.062046,
     "end_time": "2021-01-28T17:03:09.469282",
     "exception": false,
     "start_time": "2021-01-28T17:03:06.407236",
     "status": "completed"
    },
    "tags": []
   },
   "outputs": [
    {
     "name": "stderr",
     "output_type": "stream",
     "text": [
      "/home/nahtie/Desktop/liese/liese-openvino/venv/lib/python3.12/site-packages/keras/src/layers/layer.py:391: UserWarning: `build()` was called on layer 'res_net18', however the layer does not have a `build()` method implemented and it looks like it has unbuilt state. This will cause the layer to be marked as built, despite not being actually built, which may cause failures down the line. Make sure to implement a proper `build()` method.\n",
      "  warnings.warn(\n"
     ]
    },
    {
     "data": {
      "text/html": [
       "<pre style=\"white-space:pre;overflow-x:auto;line-height:normal;font-family:Menlo,'DejaVu Sans Mono',consolas,'Courier New',monospace\"><span style=\"font-weight: bold\">Model: \"res_net18\"</span>\n",
       "</pre>\n"
      ],
      "text/plain": [
       "\u001b[1mModel: \"res_net18\"\u001b[0m\n"
      ]
     },
     "metadata": {},
     "output_type": "display_data"
    },
    {
     "data": {
      "text/html": [
       "<pre style=\"white-space:pre;overflow-x:auto;line-height:normal;font-family:Menlo,'DejaVu Sans Mono',consolas,'Courier New',monospace\">┏━━━━━━━━━━━━━━━━━━━━━━━━━━━━━━━━━┳━━━━━━━━━━━━━━━━━━━━━━━━┳━━━━━━━━━━━━━━━┓\n",
       "┃<span style=\"font-weight: bold\"> Layer (type)                    </span>┃<span style=\"font-weight: bold\"> Output Shape           </span>┃<span style=\"font-weight: bold\">       Param # </span>┃\n",
       "┡━━━━━━━━━━━━━━━━━━━━━━━━━━━━━━━━━╇━━━━━━━━━━━━━━━━━━━━━━━━╇━━━━━━━━━━━━━━━┩\n",
       "│ conv2d (<span style=\"color: #0087ff; text-decoration-color: #0087ff\">Conv2D</span>)                 │ ?                      │   <span style=\"color: #00af00; text-decoration-color: #00af00\">0</span> (unbuilt) │\n",
       "├─────────────────────────────────┼────────────────────────┼───────────────┤\n",
       "│ batch_normalization             │ ?                      │   <span style=\"color: #00af00; text-decoration-color: #00af00\">0</span> (unbuilt) │\n",
       "│ (<span style=\"color: #0087ff; text-decoration-color: #0087ff\">BatchNormalization</span>)            │                        │               │\n",
       "├─────────────────────────────────┼────────────────────────┼───────────────┤\n",
       "│ max_pooling2d (<span style=\"color: #0087ff; text-decoration-color: #0087ff\">MaxPooling2D</span>)    │ ?                      │             <span style=\"color: #00af00; text-decoration-color: #00af00\">0</span> │\n",
       "├─────────────────────────────────┼────────────────────────┼───────────────┤\n",
       "│ resnet_block (<span style=\"color: #0087ff; text-decoration-color: #0087ff\">ResnetBlock</span>)      │ ?                      │   <span style=\"color: #00af00; text-decoration-color: #00af00\">0</span> (unbuilt) │\n",
       "├─────────────────────────────────┼────────────────────────┼───────────────┤\n",
       "│ resnet_block_1 (<span style=\"color: #0087ff; text-decoration-color: #0087ff\">ResnetBlock</span>)    │ ?                      │   <span style=\"color: #00af00; text-decoration-color: #00af00\">0</span> (unbuilt) │\n",
       "├─────────────────────────────────┼────────────────────────┼───────────────┤\n",
       "│ resnet_block_2 (<span style=\"color: #0087ff; text-decoration-color: #0087ff\">ResnetBlock</span>)    │ ?                      │   <span style=\"color: #00af00; text-decoration-color: #00af00\">0</span> (unbuilt) │\n",
       "├─────────────────────────────────┼────────────────────────┼───────────────┤\n",
       "│ resnet_block_3 (<span style=\"color: #0087ff; text-decoration-color: #0087ff\">ResnetBlock</span>)    │ ?                      │   <span style=\"color: #00af00; text-decoration-color: #00af00\">0</span> (unbuilt) │\n",
       "├─────────────────────────────────┼────────────────────────┼───────────────┤\n",
       "│ resnet_block_4 (<span style=\"color: #0087ff; text-decoration-color: #0087ff\">ResnetBlock</span>)    │ ?                      │   <span style=\"color: #00af00; text-decoration-color: #00af00\">0</span> (unbuilt) │\n",
       "├─────────────────────────────────┼────────────────────────┼───────────────┤\n",
       "│ resnet_block_5 (<span style=\"color: #0087ff; text-decoration-color: #0087ff\">ResnetBlock</span>)    │ ?                      │   <span style=\"color: #00af00; text-decoration-color: #00af00\">0</span> (unbuilt) │\n",
       "├─────────────────────────────────┼────────────────────────┼───────────────┤\n",
       "│ resnet_block_6 (<span style=\"color: #0087ff; text-decoration-color: #0087ff\">ResnetBlock</span>)    │ ?                      │   <span style=\"color: #00af00; text-decoration-color: #00af00\">0</span> (unbuilt) │\n",
       "├─────────────────────────────────┼────────────────────────┼───────────────┤\n",
       "│ resnet_block_7 (<span style=\"color: #0087ff; text-decoration-color: #0087ff\">ResnetBlock</span>)    │ ?                      │   <span style=\"color: #00af00; text-decoration-color: #00af00\">0</span> (unbuilt) │\n",
       "├─────────────────────────────────┼────────────────────────┼───────────────┤\n",
       "│ global_average_pooling2d        │ ?                      │             <span style=\"color: #00af00; text-decoration-color: #00af00\">0</span> │\n",
       "│ (<span style=\"color: #0087ff; text-decoration-color: #0087ff\">GlobalAveragePooling2D</span>)        │                        │               │\n",
       "├─────────────────────────────────┼────────────────────────┼───────────────┤\n",
       "│ flatten (<span style=\"color: #0087ff; text-decoration-color: #0087ff\">Flatten</span>)               │ ?                      │   <span style=\"color: #00af00; text-decoration-color: #00af00\">0</span> (unbuilt) │\n",
       "├─────────────────────────────────┼────────────────────────┼───────────────┤\n",
       "│ dense (<span style=\"color: #0087ff; text-decoration-color: #0087ff\">Dense</span>)                   │ ?                      │   <span style=\"color: #00af00; text-decoration-color: #00af00\">0</span> (unbuilt) │\n",
       "└─────────────────────────────────┴────────────────────────┴───────────────┘\n",
       "</pre>\n"
      ],
      "text/plain": [
       "┏━━━━━━━━━━━━━━━━━━━━━━━━━━━━━━━━━┳━━━━━━━━━━━━━━━━━━━━━━━━┳━━━━━━━━━━━━━━━┓\n",
       "┃\u001b[1m \u001b[0m\u001b[1mLayer (type)                   \u001b[0m\u001b[1m \u001b[0m┃\u001b[1m \u001b[0m\u001b[1mOutput Shape          \u001b[0m\u001b[1m \u001b[0m┃\u001b[1m \u001b[0m\u001b[1m      Param #\u001b[0m\u001b[1m \u001b[0m┃\n",
       "┡━━━━━━━━━━━━━━━━━━━━━━━━━━━━━━━━━╇━━━━━━━━━━━━━━━━━━━━━━━━╇━━━━━━━━━━━━━━━┩\n",
       "│ conv2d (\u001b[38;5;33mConv2D\u001b[0m)                 │ ?                      │   \u001b[38;5;34m0\u001b[0m (unbuilt) │\n",
       "├─────────────────────────────────┼────────────────────────┼───────────────┤\n",
       "│ batch_normalization             │ ?                      │   \u001b[38;5;34m0\u001b[0m (unbuilt) │\n",
       "│ (\u001b[38;5;33mBatchNormalization\u001b[0m)            │                        │               │\n",
       "├─────────────────────────────────┼────────────────────────┼───────────────┤\n",
       "│ max_pooling2d (\u001b[38;5;33mMaxPooling2D\u001b[0m)    │ ?                      │             \u001b[38;5;34m0\u001b[0m │\n",
       "├─────────────────────────────────┼────────────────────────┼───────────────┤\n",
       "│ resnet_block (\u001b[38;5;33mResnetBlock\u001b[0m)      │ ?                      │   \u001b[38;5;34m0\u001b[0m (unbuilt) │\n",
       "├─────────────────────────────────┼────────────────────────┼───────────────┤\n",
       "│ resnet_block_1 (\u001b[38;5;33mResnetBlock\u001b[0m)    │ ?                      │   \u001b[38;5;34m0\u001b[0m (unbuilt) │\n",
       "├─────────────────────────────────┼────────────────────────┼───────────────┤\n",
       "│ resnet_block_2 (\u001b[38;5;33mResnetBlock\u001b[0m)    │ ?                      │   \u001b[38;5;34m0\u001b[0m (unbuilt) │\n",
       "├─────────────────────────────────┼────────────────────────┼───────────────┤\n",
       "│ resnet_block_3 (\u001b[38;5;33mResnetBlock\u001b[0m)    │ ?                      │   \u001b[38;5;34m0\u001b[0m (unbuilt) │\n",
       "├─────────────────────────────────┼────────────────────────┼───────────────┤\n",
       "│ resnet_block_4 (\u001b[38;5;33mResnetBlock\u001b[0m)    │ ?                      │   \u001b[38;5;34m0\u001b[0m (unbuilt) │\n",
       "├─────────────────────────────────┼────────────────────────┼───────────────┤\n",
       "│ resnet_block_5 (\u001b[38;5;33mResnetBlock\u001b[0m)    │ ?                      │   \u001b[38;5;34m0\u001b[0m (unbuilt) │\n",
       "├─────────────────────────────────┼────────────────────────┼───────────────┤\n",
       "│ resnet_block_6 (\u001b[38;5;33mResnetBlock\u001b[0m)    │ ?                      │   \u001b[38;5;34m0\u001b[0m (unbuilt) │\n",
       "├─────────────────────────────────┼────────────────────────┼───────────────┤\n",
       "│ resnet_block_7 (\u001b[38;5;33mResnetBlock\u001b[0m)    │ ?                      │   \u001b[38;5;34m0\u001b[0m (unbuilt) │\n",
       "├─────────────────────────────────┼────────────────────────┼───────────────┤\n",
       "│ global_average_pooling2d        │ ?                      │             \u001b[38;5;34m0\u001b[0m │\n",
       "│ (\u001b[38;5;33mGlobalAveragePooling2D\u001b[0m)        │                        │               │\n",
       "├─────────────────────────────────┼────────────────────────┼───────────────┤\n",
       "│ flatten (\u001b[38;5;33mFlatten\u001b[0m)               │ ?                      │   \u001b[38;5;34m0\u001b[0m (unbuilt) │\n",
       "├─────────────────────────────────┼────────────────────────┼───────────────┤\n",
       "│ dense (\u001b[38;5;33mDense\u001b[0m)                   │ ?                      │   \u001b[38;5;34m0\u001b[0m (unbuilt) │\n",
       "└─────────────────────────────────┴────────────────────────┴───────────────┘\n"
      ]
     },
     "metadata": {},
     "output_type": "display_data"
    },
    {
     "data": {
      "text/html": [
       "<pre style=\"white-space:pre;overflow-x:auto;line-height:normal;font-family:Menlo,'DejaVu Sans Mono',consolas,'Courier New',monospace\"><span style=\"font-weight: bold\"> Total params: </span><span style=\"color: #00af00; text-decoration-color: #00af00\">0</span> (0.00 B)\n",
       "</pre>\n"
      ],
      "text/plain": [
       "\u001b[1m Total params: \u001b[0m\u001b[38;5;34m0\u001b[0m (0.00 B)\n"
      ]
     },
     "metadata": {},
     "output_type": "display_data"
    },
    {
     "data": {
      "text/html": [
       "<pre style=\"white-space:pre;overflow-x:auto;line-height:normal;font-family:Menlo,'DejaVu Sans Mono',consolas,'Courier New',monospace\"><span style=\"font-weight: bold\"> Trainable params: </span><span style=\"color: #00af00; text-decoration-color: #00af00\">0</span> (0.00 B)\n",
       "</pre>\n"
      ],
      "text/plain": [
       "\u001b[1m Trainable params: \u001b[0m\u001b[38;5;34m0\u001b[0m (0.00 B)\n"
      ]
     },
     "metadata": {},
     "output_type": "display_data"
    },
    {
     "data": {
      "text/html": [
       "<pre style=\"white-space:pre;overflow-x:auto;line-height:normal;font-family:Menlo,'DejaVu Sans Mono',consolas,'Courier New',monospace\"><span style=\"font-weight: bold\"> Non-trainable params: </span><span style=\"color: #00af00; text-decoration-color: #00af00\">0</span> (0.00 B)\n",
       "</pre>\n"
      ],
      "text/plain": [
       "\u001b[1m Non-trainable params: \u001b[0m\u001b[38;5;34m0\u001b[0m (0.00 B)\n"
      ]
     },
     "metadata": {},
     "output_type": "display_data"
    }
   ],
   "source": [
    "# Inicializar el modelo ResNet18 con 10 clases de salida\n",
    "model = ResNet18(10)\n",
    "\n",
    "# Construir el modelo especificando la forma de entrada (32x32 píxeles y 3 canales de color, sin especificar el tamaño del lote)\n",
    "model.build(input_shape=(None, 32, 32, 3))\n",
    "\n",
    "# Usar la función de pérdida 'categorical_crossentropy' ya que las etiquetas están en formato one-hot encoded\n",
    "# 'categorical_crossentropy' es ideal para clasificaciones múltiples con etiquetas codificadas de esta manera\n",
    "# use categorical_crossentropy since the label is one-hot encoded\n",
    "\n",
    "# Importar el optimizador SGD de Keras\n",
    "from keras.optimizers import SGD\n",
    "\n",
    "# Configuración opcional del optimizador SGD con parámetros sugeridos por el investigador Kaiming He:\n",
    "# opt = SGD(learning_rate=0.1, momentum=0.9, decay=1e-04) # Parámetros sugeridos por He [1]\n",
    "\n",
    "# Compilar el modelo usando el optimizador \"adam\", con la función de pérdida 'categorical_crossentropy' y la métrica de precisión\n",
    "model.compile(optimizer=\"adam\", loss='categorical_crossentropy', metrics=[\"accuracy\"])\n",
    "\n",
    "# Mostrar un resumen de la arquitectura del modelo\n",
    "model.summary()\n"
   ]
  },
  {
   "cell_type": "markdown",
   "metadata": {},
   "source": [
    "Entrenamiento"
   ]
  },
  {
   "cell_type": "code",
   "execution_count": 12,
   "metadata": {
    "execution": {
     "iopub.execute_input": "2021-01-28T17:03:09.566633Z",
     "iopub.status.busy": "2021-01-28T17:03:09.566068Z",
     "iopub.status.idle": "2021-01-28T17:19:54.648807Z",
     "shell.execute_reply": "2021-01-28T17:19:54.647553Z"
    },
    "papermill": {
     "duration": 1005.132346,
     "end_time": "2021-01-28T17:19:54.648922",
     "exception": false,
     "start_time": "2021-01-28T17:03:09.516576",
     "status": "completed"
    },
    "tags": []
   },
   "outputs": [
    {
     "name": "stderr",
     "output_type": "stream",
     "text": [
      "/home/nahtie/Desktop/liese/liese-openvino/venv/lib/python3.12/site-packages/keras/src/trainers/data_adapters/py_dataset_adapter.py:121: UserWarning: Your `PyDataset` class should call `super().__init__(**kwargs)` in its constructor. `**kwargs` can include `workers`, `use_multiprocessing`, `max_queue_size`. Do not pass these arguments to `fit()`, as they will be ignored.\n",
      "  self._warn_if_super_not_called()\n"
     ]
    },
    {
     "name": "stdout",
     "output_type": "stream",
     "text": [
      "Epoch 1/3\n",
      "\u001b[1m156/156\u001b[0m \u001b[32m━━━━━━━━━━━━━━━━━━━━\u001b[0m\u001b[37m\u001b[0m \u001b[1m102s\u001b[0m 603ms/step - accuracy: 0.2373 - loss: 2.6634 - val_accuracy: 0.4534 - val_loss: 1.4860\n",
      "Epoch 2/3\n",
      "\u001b[1m  1/156\u001b[0m \u001b[37m━━━━━━━━━━━━━━━━━━━━\u001b[0m \u001b[1m1:06\u001b[0m 430ms/step - accuracy: 0.4141 - loss: 1.5473"
     ]
    },
    {
     "name": "stderr",
     "output_type": "stream",
     "text": [
      "2024-11-06 15:42:27.563135: I tensorflow/core/framework/local_rendezvous.cc:405] Local rendezvous is aborting with status: OUT_OF_RANGE: End of sequence\n",
      "\t [[{{node IteratorGetNext}}]]\n",
      "/usr/lib/python3.12/contextlib.py:158: UserWarning: Your input ran out of data; interrupting training. Make sure that your dataset or generator can generate at least `steps_per_epoch * epochs` batches. You may need to use the `.repeat()` function when building your dataset.\n",
      "  self.gen.throw(value)\n"
     ]
    },
    {
     "name": "stdout",
     "output_type": "stream",
     "text": [
      "\u001b[1m156/156\u001b[0m \u001b[32m━━━━━━━━━━━━━━━━━━━━\u001b[0m\u001b[37m\u001b[0m \u001b[1m19s\u001b[0m 118ms/step - accuracy: 0.4141 - loss: 1.5473 - val_accuracy: 0.4478 - val_loss: 1.5054\n",
      "Epoch 3/3\n",
      "\u001b[1m156/156\u001b[0m \u001b[32m━━━━━━━━━━━━━━━━━━━━\u001b[0m\u001b[37m\u001b[0m \u001b[1m91s\u001b[0m 582ms/step - accuracy: 0.4601 - loss: 1.4743 - val_accuracy: 0.5183 - val_loss: 1.3430\n"
     ]
    }
   ],
   "source": [
    "from keras.callbacks import EarlyStopping\n",
    "\n",
    "#es = EarlyStopping(patience=8, restore_best_weights=True, monitor=\"accuracy\", mode=\"max\")\n",
    "# No se usó validación cruzada debido a la limitación de recursos computacionales\n",
    "STEPS = len(X_train) // 256\n",
    "# history = model.fit(aug.flow(X_train, Y_train, batch_size=256), steps_per_epoch=STEPS, batch_size=256, epochs=5, validation_data=(X_train, Y_train), callbacks=[es])\n",
    "history = model.fit(aug.flow(X_train, Y_train, batch_size=256), steps_per_epoch=STEPS, batch_size=256, epochs=3, validation_data=(X_train, Y_train))\n"
   ]
  },
  {
   "cell_type": "markdown",
   "metadata": {
    "papermill": {
     "duration": 2.422799,
     "end_time": "2021-01-28T17:19:59.285877",
     "exception": false,
     "start_time": "2021-01-28T17:19:56.863078",
     "status": "completed"
    },
    "tags": []
   },
   "source": [
    "## Curva de aprendizaje por época"
   ]
  },
  {
   "cell_type": "code",
   "execution_count": 13,
   "metadata": {
    "execution": {
     "iopub.execute_input": "2021-01-28T17:20:03.774078Z",
     "iopub.status.busy": "2021-01-28T17:20:03.766691Z",
     "iopub.status.idle": "2021-01-28T17:20:04.041248Z",
     "shell.execute_reply": "2021-01-28T17:20:04.040789Z"
    },
    "papermill": {
     "duration": 2.489958,
     "end_time": "2021-01-28T17:20:04.041349",
     "exception": false,
     "start_time": "2021-01-28T17:20:01.551391",
     "status": "completed"
    },
    "tags": []
   },
   "outputs": [
    {
     "name": "stdout",
     "output_type": "stream",
     "text": [
      "dict_keys(['accuracy', 'loss', 'val_accuracy', 'val_loss'])\n"
     ]
    },
    {
     "data": {
      "image/png": "[encoded data removed]",
      "text/plain": [
       "<Figure size 1500x500 with 2 Axes>"
      ]
     },
     "metadata": {},
     "output_type": "display_data"
    }
   ],
   "source": [
    "\n",
    "def plotmodelhistory(history): \n",
    "    fig, axs = plt.subplots(1,2,figsize=(15,5)) \n",
    "    # Describir el historial de entrenamiento\n",
    "    axs[0].plot(history.history['accuracy']) \n",
    "    axs[0].plot(history.history['val_accuracy']) \n",
    "    axs[0].set_title('Model Accuracy')\n",
    "    axs[0].set_ylabel('Accuracy') \n",
    "    axs[0].set_xlabel('Epoch')\n",
    "    \n",
    "    axs[0].legend(['train', 'validate'], loc='upper left')\n",
    "    # Describir las pérdidas\n",
    "    axs[1].plot(history.history['loss']) \n",
    "    axs[1].plot(history.history['val_loss']) \n",
    "    axs[1].set_title('Model Loss')\n",
    "    axs[1].set_ylabel('Loss') \n",
    "    axs[1].set_xlabel('Epoch')\n",
    "    axs[1].legend(['train', 'validate'], loc='upper left')\n",
    "    plt.show()\n",
    "\n",
    "# Mostrar la data histórica\n",
    "print(history.history.keys())\n",
    "plotmodelhistory(history)\n"
   ]
  },
  {
   "cell_type": "markdown",
   "metadata": {
    "papermill": {
     "duration": 2.227984,
     "end_time": "2021-01-28T17:20:08.481034",
     "exception": false,
     "start_time": "2021-01-28T17:20:06.253050",
     "status": "completed"
    },
    "tags": []
   },
   "source": [
    "##  Predicción"
   ]
  },
  {
   "cell_type": "code",
   "execution_count": 14,
   "metadata": {
    "execution": {
     "iopub.execute_input": "2021-01-28T17:20:13.182534Z",
     "iopub.status.busy": "2021-01-28T17:20:13.181559Z",
     "iopub.status.idle": "2021-01-28T17:20:22.049266Z",
     "shell.execute_reply": "2021-01-28T17:20:22.049803Z"
    },
    "papermill": {
     "duration": 11.074685,
     "end_time": "2021-01-28T17:20:22.049935",
     "exception": false,
     "start_time": "2021-01-28T17:20:10.975250",
     "status": "completed"
    },
    "tags": []
   },
   "outputs": [
    {
     "name": "stdout",
     "output_type": "stream",
     "text": [
      "\u001b[1m1250/1250\u001b[0m \u001b[32m━━━━━━━━━━━━━━━━━━━━\u001b[0m\u001b[37m\u001b[0m \u001b[1m34s\u001b[0m 27ms/step - accuracy: 0.5204 - loss: 1.3394\n",
      "Model Loss is 1.3429839611053467\n",
      "Model Accuracy is 0.5182750225067139\n"
     ]
    }
   ],
   "source": [
    "## Evaluar el modelo en el conjunto de prueba\n",
    "\n",
    "ModelLoss, ModelAccuracy = model.evaluate(X_train, Y_train)\n",
    "\n",
    "print('Model Loss is {}'.format(ModelLoss))\n",
    "print('Model Accuracy is {}'.format(ModelAccuracy))"
   ]
  },
  {
   "cell_type": "markdown",
   "metadata": {},
   "source": [
    "## Conversión a formato IX para OpenVINO"
   ]
  },
  {
   "cell_type": "code",
   "execution_count": 15,
   "metadata": {
    "execution": {
     "iopub.execute_input": "2021-01-28T17:20:26.703343Z",
     "iopub.status.busy": "2021-01-28T17:20:26.702414Z",
     "iopub.status.idle": "2021-01-28T17:20:26.704400Z",
     "shell.execute_reply": "2021-01-28T17:20:26.704855Z"
    },
    "papermill": {
     "duration": 2.286181,
     "end_time": "2021-01-28T17:20:26.704971",
     "exception": false,
     "start_time": "2021-01-28T17:20:24.418790",
     "status": "completed"
    },
    "tags": []
   },
   "outputs": [],
   "source": [
    "import openvino as ov"
   ]
  },
  {
   "cell_type": "code",
   "execution_count": 16,
   "metadata": {},
   "outputs": [
    {
     "data": {
      "text/plain": [
       "array([[[0.6117647 , 0.65882355, 0.5882353 ],\n",
       "        [0.64705884, 0.7019608 , 0.627451  ],\n",
       "        [0.67058825, 0.7294118 , 0.654902  ],\n",
       "        ...,\n",
       "        [0.19215687, 0.16470589, 0.1254902 ],\n",
       "        [0.1764706 , 0.14509805, 0.11372549],\n",
       "        [0.1882353 , 0.15686275, 0.11372549]],\n",
       "\n",
       "       [[0.3019608 , 0.33333334, 0.2627451 ],\n",
       "        [0.36862746, 0.4117647 , 0.3254902 ],\n",
       "        [0.4745098 , 0.5254902 , 0.4117647 ],\n",
       "        ...,\n",
       "        [0.34901962, 0.28627452, 0.22352941],\n",
       "        [0.28627452, 0.22745098, 0.17254902],\n",
       "        [0.29411766, 0.23529412, 0.1764706 ]],\n",
       "\n",
       "       [[0.28235295, 0.3019608 , 0.29411766],\n",
       "        [0.24705882, 0.2784314 , 0.24705882],\n",
       "        [0.30980393, 0.3529412 , 0.2784314 ],\n",
       "        ...,\n",
       "        [0.5372549 , 0.4862745 , 0.39607844],\n",
       "        [0.4392157 , 0.39607844, 0.3137255 ],\n",
       "        [0.3764706 , 0.34117648, 0.25490198]],\n",
       "\n",
       "       ...,\n",
       "\n",
       "       [[0.3137255 , 0.3647059 , 0.2901961 ],\n",
       "        [0.30980393, 0.36862746, 0.28235295],\n",
       "        [0.2627451 , 0.32156864, 0.23137255],\n",
       "        ...,\n",
       "        [0.32156864, 0.3764706 , 0.29803923],\n",
       "        [0.34117648, 0.40784314, 0.3137255 ],\n",
       "        [0.35686275, 0.41960785, 0.34509805]],\n",
       "\n",
       "       [[0.3254902 , 0.36078432, 0.29411766],\n",
       "        [0.3254902 , 0.3647059 , 0.2901961 ],\n",
       "        [0.3372549 , 0.38431373, 0.30588236],\n",
       "        ...,\n",
       "        [0.40784314, 0.45882353, 0.4       ],\n",
       "        [0.4117647 , 0.4627451 , 0.40784314],\n",
       "        [0.41568628, 0.45882353, 0.4       ]],\n",
       "\n",
       "       [[0.32156864, 0.3529412 , 0.2901961 ],\n",
       "        [0.32156864, 0.35686275, 0.28627452],\n",
       "        [0.32941177, 0.3647059 , 0.3019608 ],\n",
       "        ...,\n",
       "        [0.39215687, 0.44705883, 0.3882353 ],\n",
       "        [0.40392157, 0.45490196, 0.4       ],\n",
       "        [0.41568628, 0.4509804 , 0.3882353 ]]], dtype=float32)"
      ]
     },
     "execution_count": 16,
     "metadata": {},
     "output_type": "execute_result"
    }
   ],
   "source": [
    "X_train[0]"
   ]
  },
  {
   "cell_type": "code",
   "execution_count": 17,
   "metadata": {},
   "outputs": [],
   "source": [
    "# Create tensor example with X_train image\n",
    "input_tensor = tf.convert_to_tensor(X_train)"
   ]
  },
  {
   "cell_type": "code",
   "execution_count": 20,
   "metadata": {},
   "outputs": [],
   "source": [
    "# Create OpenVINO model\n",
    "X_train = tf.cast(X_train, tf.float32)  # Cast to float32\n",
    "\n",
    "example_input = tf.convert_to_tensor(X_train[:1], dtype=tf.float32)  # Use a batch size of 1\n",
    "ov_model = ov.convert_model(model, example_input=example_input)"
   ]
  },
  {
   "cell_type": "code",
   "execution_count": 21,
   "metadata": {},
   "outputs": [],
   "source": [
    "# Save the OpenVINO model\n",
    "ov.save_model(ov_model, 'resnet18_openvino_model.xml')\n",
    "\n",
    "print(\"Model saved as 'resnet18_openvino_model.xml'\")"
   ]
  }
 ],
 "metadata": {
  "kernelspec": {
   "display_name": "venv",
   "language": "python",
   "name": "python3"
  },
  "language_info": {
   "codemirror_mode": {
    "name": "ipython",
    "version": 3
   },
   "file_extension": ".py",
   "mimetype": "text/x-python",
   "name": "python",
   "nbconvert_exporter": "python",
   "pygments_lexer": "ipython3",
   "version": "3.12.7"
  },
  "papermill": {
   "duration": 1063.761073,
   "end_time": "2021-01-28T17:20:30.777536",
   "environment_variables": {},
   "exception": null,
   "input_path": "__notebook__.ipynb",
   "output_path": "__notebook__.ipynb",
   "parameters": {},
   "start_time": "2021-01-28T17:02:47.016463",
   "version": "2.1.0"
  }
 },
 "nbformat": 4,
 "nbformat_minor": 4
}
