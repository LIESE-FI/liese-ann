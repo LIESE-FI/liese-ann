{
  "nbformat": 4,
  "nbformat_minor": 0,
  "metadata": {
    "colab": {
      "provenance": []
    },
    "kernelspec": {
      "name": "python3",
      "display_name": "Python 3"
    },
    "language_info": {
      "name": "python"
    }
  },
  "cells": [
    {
      "cell_type": "code",
      "execution_count": null,
      "metadata": {
        "id": "yFYsb-kFswrx"
      },
      "outputs": [],
      "source": [
        "import numpy as np\n",
        "import pandas as pd\n",
        "import tensorflow as tf\n",
        "import math\n",
        "from keras import layers\n",
        "from keras.layers import Input, Add, Dense, Activation, ZeroPadding2D, BatchNormalization, Flatten, Conv2D, AveragePooling2D, MaxPooling2D, GlobalMaxPooling2D\n",
        "from keras.models import Model, load_model\n",
        "from keras.initializers import glorot_uniform\n",
        "import matplotlib.pyplot as plt\n",
        "import os\n",
        "from tensorflow.keras.preprocessing.image import ImageDataGenerator\n",
        "from sklearn.model_selection import train_test_split\n",
        "from tensorflow.keras.utils import to_categorical\n",
        "import cv2\n",
        "import pydot"
      ]
    },
    {
      "cell_type": "code",
      "source": [
        "#load_dataset function to load the data and resize the images to 50x50\n",
        "def load_dataset(directory):\n",
        "  images = []\n",
        "  labels = []\n",
        "  for idx, label in enumerate(uniq_labels):\n",
        "    for file in os.listdir(directory + '/'+label):\n",
        "      filepath = directory +'/'+ label + \"/\" + file\n",
        "      img = cv2.resize(cv2.imread(filepath),(50,50))\n",
        "      images.append(img)\n",
        "      labels.append(idx)\n",
        "  images = np.asarray(images)\n",
        "  labels = np.asarray(labels)\n",
        "  return images, labels"
      ],
      "metadata": {
        "id": "qKWHfRhOtfyI"
      },
      "execution_count": null,
      "outputs": []
    },
    {
      "cell_type": "code",
      "source": [
        "from google.colab import drive\n",
        "drive.mount('/content/drive')"
      ],
      "metadata": {
        "colab": {
          "base_uri": "https://localhost:8080/"
        },
        "id": "yiKK9MLztzmy",
        "outputId": "dcd5dfb2-9caa-42b6-c58e-f9d6d2d5df6e"
      },
      "execution_count": null,
      "outputs": [
        {
          "output_type": "stream",
          "name": "stdout",
          "text": [
            "Mounted at /content/drive\n"
          ]
        }
      ]
    },
    {
      "cell_type": "code",
      "source": [
        "#loading_dataset into X_pre and Y_pre\n",
        "data_dir = '/content/drive/My Drive/Gesture Image Data'\n",
        "uniq_labels = sorted(os.listdir(data_dir))\n",
        "X_pre, Y_pre = load_dataset(data_dir)\n",
        "print(X_pre.shape, Y_pre.shape)"
      ],
      "metadata": {
        "id": "JtX70qYcuITS",
        "colab": {
          "base_uri": "https://localhost:8080/"
        },
        "outputId": "0f97094b-491a-41b3-a474-bb4c26eed5d6"
      },
      "execution_count": null,
      "outputs": [
        {
          "output_type": "stream",
          "name": "stdout",
          "text": [
            "(55501, 50, 50, 3) (55501,)\n"
          ]
        }
      ]
    },
    {
      "cell_type": "code",
      "source": [
        "#spliting dataset into 80% train, 10% validation and 10% test data\n",
        "X_train, X_test, Y_train, Y_test = train_test_split(X_pre, Y_pre, test_size = 0.8)\n",
        "X_test, X_eval, Y_test, Y_eval = train_test_split(X_test, Y_test, test_size = 0.5)\n",
        "\n",
        "classes = np.array(uniq_labels)\n",
        "classes = np.unique(classes)"
      ],
      "metadata": {
        "id": "rK6jYTWlA0kY"
      },
      "execution_count": null,
      "outputs": []
    },
    {
      "cell_type": "code",
      "source": [
        "#print shapes and show examples for each set\n",
        "print(\"Train images shape\",X_train.shape, Y_train.shape)\n",
        "print(\"Test images shape\",X_test.shape, Y_test.shape)\n",
        "print(\"Evaluate image shape\",X_eval.shape, Y_eval.shape)\n",
        "print(\"Printing the labels\",uniq_labels, len(uniq_labels))"
      ],
      "metadata": {
        "colab": {
          "base_uri": "https://localhost:8080/"
        },
        "id": "usJdq4jgA5cX",
        "outputId": "c657263f-518c-4d42-d0c8-82016f21e8e7"
      },
      "execution_count": null,
      "outputs": [
        {
          "output_type": "stream",
          "name": "stdout",
          "text": [
            "Train images shape (11100, 50, 50, 3) (11100,)\n",
            "Test images shape (22200, 50, 50, 3) (22200,)\n",
            "Evaluate image shape (22201, 50, 50, 3) (22201,)\n",
            "Printing the labels ['0', '1', '2', '3', '4', '5', '6', '7', '8', '9', 'A', 'B', 'C', 'D', 'E', 'F', 'G', 'H', 'I', 'J', 'K', 'L', 'M', 'N', 'O', 'P', 'Q', 'R', 'S', 'T', 'U', 'V', 'W', 'X', 'Y', 'Z', '_'] 37\n"
          ]
        }
      ]
    },
    {
      "cell_type": "code",
      "source": [
        "# converting Y_tes and Y_train to One hot vectors using to_categorical\n",
        "# example of one hot => '1' is represented as [0. 1. 0. . . . . 0.]\n",
        "Y_train = to_categorical(Y_train, num_classes=len(uniq_labels))\n",
        "Y_test = to_categorical(Y_test, num_classes=len(uniq_labels))\n",
        "Y_eval = to_categorical(Y_eval, num_classes=len(uniq_labels))\n",
        "X_train = X_train / 255.\n",
        "X_test = X_test/ 255.\n",
        "X_eval = X_eval/ 255."
      ],
      "metadata": {
        "id": "Dx2uhIagA8NU"
      },
      "execution_count": null,
      "outputs": []
    },
    {
      "cell_type": "code",
      "source": [
        "def identity_block(X, filters, stage, block):\n",
        "    \"\"\"\n",
        "\n",
        "    Arguments:\n",
        "    X -- input tensor of shape (m, n_H_prev, n_W_prev, n_C_prev)\n",
        "    filters -- python list of integers, defining the number of filters in the CONV layers of the main path\n",
        "    stage -- integer, used to name the layers, depending on their position in the network\n",
        "    block -- string/character, used to name the layers, depending on their position in the network\n",
        "\n",
        "    Returns:\n",
        "    X -- output of the identity block, tensor of shape (n_H, n_W, n_C)\n",
        "    \"\"\"\n",
        "\n",
        "    # defining name basis\n",
        "    conv_name_base = 'res' + str(stage) + block + '_branch'\n",
        "    bn_name_base = 'bn' + str(stage) + block + '_branch'\n",
        "\n",
        "    # Retrieve Filters\n",
        "    F1, F2 = filters\n",
        "\n",
        "    # Save the input value. You'll need this later to add back to the main path.\n",
        "    X_shortcut = X\n",
        "\n",
        "    # First component of main path\n",
        "    X = Conv2D(filters = F1, kernel_size = (3, 3), strides = (1,1), padding = 'same', name = conv_name_base + '2a', kernel_initializer = glorot_uniform())(X)\n",
        "    X = BatchNormalization(axis = 3, name = bn_name_base + '2a')(X)\n",
        "    X = Activation('relu')(X)\n",
        "\n",
        "    # Second component of main path\n",
        "    X = Conv2D(filters = F2, kernel_size = (3, 3), strides = (1,1), padding = 'same', name = conv_name_base + '2b', kernel_initializer = glorot_uniform())(X)\n",
        "    X = BatchNormalization(axis = 3, name = bn_name_base + '2b')(X)\n",
        "\n",
        "    # Final step: Add shortcut value to main path, and pass it through a RELU activation\n",
        "    X = Add()([X, X_shortcut])\n",
        "    X = Activation('relu')(X)\n",
        "\n",
        "    return X"
      ],
      "metadata": {
        "id": "e3cb724WA_hQ"
      },
      "execution_count": null,
      "outputs": []
    },
    {
      "cell_type": "code",
      "source": [
        "def convolutional_block(X, filters, stage, block):\n",
        "    \"\"\"\n",
        "    Implementation of the convolutional block as defined in Figure 4\n",
        "\n",
        "    Arguments:\n",
        "    X -- input tensor of shape (m, n_H_prev, n_W_prev, n_C_prev)\n",
        "    filters -- python list of integers, defining the number of filters in the CONV layers of the main path\n",
        "    stage -- integer, used to name the layers, depending on their position in the network\n",
        "    block -- string/character, used to name the layers, depending on their position in the network\n",
        "\n",
        "    Returns:\n",
        "    X -- output of the convolutional block, tensor of shape (n_H, n_W, n_C)\n",
        "    \"\"\"\n",
        "\n",
        "    # defining name basis\n",
        "    conv_name_base = 'res' + str(stage) + block + '_branch'\n",
        "    bn_name_base = 'bn' + str(stage) + block + '_branch'\n",
        "\n",
        "    # Retrieve Filters\n",
        "    F1, F2 = filters\n",
        "\n",
        "    # Save the input value\n",
        "    X_shortcut = X\n",
        "\n",
        "    ##### MAIN PATH #####\n",
        "    # First component of main path\n",
        "    X = Conv2D(F1, (3, 3), strides = (2, 2), padding = 'same', name = conv_name_base + '2a', kernel_initializer = glorot_uniform())(X)\n",
        "    X = BatchNormalization(axis = 3, name = bn_name_base + '2a')(X)\n",
        "    X = Activation('relu')(X)\n",
        "\n",
        "    # Second component of main path\n",
        "    X = Conv2D(F2, (3, 3), strides = (1, 1), padding = 'same', name = conv_name_base + '2b', kernel_initializer = glorot_uniform())(X)\n",
        "    X = BatchNormalization(axis = 3, name = bn_name_base + '2b')(X)\n",
        "\n",
        "    ##### SHORTCUT PATH ####\n",
        "    X_shortcut = Conv2D(F2, (3, 3), strides = (2, 2), padding = 'same', name = conv_name_base + '1', kernel_initializer = glorot_uniform())(X_shortcut)\n",
        "    X_shortcut = BatchNormalization(axis = 3, name = bn_name_base + '1')(X_shortcut)\n",
        "\n",
        "    # Final step: Add shortcut value to main path, and pass it through a RELU activation (≈2 lines)\n",
        "    X = Add()([X, X_shortcut])\n",
        "    X = Activation('relu')(X)\n",
        "\n",
        "    return X"
      ],
      "metadata": {
        "id": "znc7z-AqBURa"
      },
      "execution_count": null,
      "outputs": []
    },
    {
      "cell_type": "code",
      "source": [
        "def ResNet18(input_shape = (28, 28, 1), classes = 24):\n",
        "    \"\"\"\n",
        "    Implementation of the popular ResNet18\n",
        "\n",
        "    Arguments:\n",
        "    input_shape -- shape of the images of the dataset\n",
        "    classes -- integer, number of classes\n",
        "\n",
        "    Returns:\n",
        "    model -- a Model() instance in Keras\n",
        "    \"\"\"\n",
        "\n",
        "    # Define the input as a tensor with shape input_shape\n",
        "    X = X_input = Input(input_shape)\n",
        "\n",
        "\n",
        "    # Zero-Padding\n",
        "    X = ZeroPadding2D((3, 3))(X_input)\n",
        "\n",
        "    # Stage 1\n",
        "    X = Conv2D(64, (7, 7), strides = (2, 2), name = 'conv1', kernel_initializer = glorot_uniform(seed=0))(X)\n",
        "    X = BatchNormalization(axis = 3, name = 'bn_conv1')(X)\n",
        "    X = Activation('relu')(X)\n",
        "    #X = MaxPooling2D((3, 3), strides=(2, 2))(X)\n",
        "\n",
        "    # Stage 2\n",
        "    X = convolutional_block(X, [64, 64], stage=2, block='a')\n",
        "    X = identity_block(X, [64, 64], stage=2, block='b')\n",
        "\n",
        "    # Stage 3\n",
        "    X = convolutional_block(X, [128, 128], stage=3, block='a')\n",
        "    X = identity_block(X, [128, 128], stage=3, block='b')\n",
        "\n",
        "    # Stage 4\n",
        "    X = convolutional_block(X, [256, 256], stage=4, block='a')\n",
        "    X = identity_block(X, [256, 256], stage=4, block='b')\n",
        "\n",
        "    # Stage 5\n",
        "    X = convolutional_block(X, [512, 512], stage=5, block='a')\n",
        "    X = identity_block(X, [512, 512], stage=5, block='b')\n",
        "\n",
        "    # AVGPOOL\n",
        "    # X = AveragePooling2D(pool_size=(2,2), name='avg_pool')(X)\n",
        "\n",
        "    # output layer\n",
        "    X = Flatten()(X)\n",
        "    X = Dense(classes, activation='softmax', name='fc' + str(classes), kernel_initializer = glorot_uniform(seed=0))(X)\n",
        "\n",
        "    # Create model\n",
        "    model = Model(inputs = X_input, outputs = X, name='ResNet18')\n",
        "\n",
        "    return model"
      ],
      "metadata": {
        "id": "HPwG53iBBZp6"
      },
      "execution_count": null,
      "outputs": []
    },
    {
      "cell_type": "code",
      "source": [
        "# train the neural network\n",
        "inputs = tf.keras.layers.Input(shape=(50, 50, 3), name=\"input_layer\")  # Set correct name\n",
        "model = ResNet18(input_shape = (50, 50, 3), classes = len(uniq_labels))\n",
        "model.compile(optimizer='adam', loss='categorical_crossentropy', metrics=['accuracy'])\n",
        "model.fit(X_train, Y_train, epochs = 2, batch_size = 32)\n",
        "\n",
        "# test the neural network\n",
        "preds = model.evaluate(X_test, Y_test)\n",
        "print (\"Loss = \" + str(preds[0]))\n",
        "print (\"Test Accuracy = \" + str(preds[1]))"
      ],
      "metadata": {
        "colab": {
          "base_uri": "https://localhost:8080/"
        },
        "id": "wr8ShiICBwBf",
        "outputId": "4fed09d6-c9c7-4a5f-ce84-19c59f21664e"
      },
      "execution_count": null,
      "outputs": [
        {
          "output_type": "stream",
          "name": "stdout",
          "text": [
            "Epoch 1/2\n",
            "\u001b[1m347/347\u001b[0m \u001b[32m━━━━━━━━━━━━━━━━━━━━\u001b[0m\u001b[37m\u001b[0m \u001b[1m1128s\u001b[0m 3s/step - accuracy: 0.5827 - loss: 2.1652\n",
            "Epoch 2/2\n",
            "\u001b[1m347/347\u001b[0m \u001b[32m━━━━━━━━━━━━━━━━━━━━\u001b[0m\u001b[37m\u001b[0m \u001b[1m1102s\u001b[0m 3s/step - accuracy: 0.9863 - loss: 0.0486\n",
            "\u001b[1m694/694\u001b[0m \u001b[32m━━━━━━━━━━━━━━━━━━━━\u001b[0m\u001b[37m\u001b[0m \u001b[1m142s\u001b[0m 203ms/step - accuracy: 0.6455 - loss: 6.3009\n",
            "Loss = 6.3838419914245605\n",
            "Test Accuracy = 0.6399099230766296\n"
          ]
        }
      ]
    },
    {
      "cell_type": "code",
      "source": [
        "pip install openvino==2023.3.0"
      ],
      "metadata": {
        "colab": {
          "base_uri": "https://localhost:8080/"
        },
        "id": "JVveoYccMzxz",
        "outputId": "7f7e82c9-da4c-4c9e-c9bc-bd1ce39c5b8c"
      },
      "execution_count": null,
      "outputs": [
        {
          "output_type": "stream",
          "name": "stdout",
          "text": [
            "Collecting openvino==2023.3.0\n",
            "  Downloading openvino-2023.3.0-13775-cp311-cp311-manylinux2014_x86_64.whl.metadata (8.8 kB)\n",
            "Requirement already satisfied: numpy>=1.16.6 in /usr/local/lib/python3.11/dist-packages (from openvino==2023.3.0) (1.26.4)\n",
            "Collecting openvino-telemetry>=2023.2.1 (from openvino==2023.3.0)\n",
            "  Downloading openvino_telemetry-2025.0.0-py3-none-any.whl.metadata (2.3 kB)\n",
            "Downloading openvino-2023.3.0-13775-cp311-cp311-manylinux2014_x86_64.whl (38.3 MB)\n",
            "\u001b[2K   \u001b[90m━━━━━━━━━━━━━━━━━━━━━━━━━━━━━━━━━━━━━━━━\u001b[0m \u001b[32m38.3/38.3 MB\u001b[0m \u001b[31m6.6 MB/s\u001b[0m eta \u001b[36m0:00:00\u001b[0m\n",
            "\u001b[?25hDownloading openvino_telemetry-2025.0.0-py3-none-any.whl (24 kB)\n",
            "Installing collected packages: openvino-telemetry, openvino\n",
            "Successfully installed openvino-2023.3.0 openvino-telemetry-2025.0.0\n"
          ]
        }
      ]
    },
    {
      "cell_type": "code",
      "source": [
        "import openvino as ov"
      ],
      "metadata": {
        "id": "jiavTSIZNBWW"
      },
      "execution_count": null,
      "outputs": []
    },
    {
      "cell_type": "code",
      "source": [
        "X_train[0]"
      ],
      "metadata": {
        "colab": {
          "base_uri": "https://localhost:8080/"
        },
        "id": "RfQhfpAYNFNG",
        "outputId": "451190e7-807c-40e9-e4b5-f187c7ebdea8"
      },
      "execution_count": null,
      "outputs": [
        {
          "output_type": "execute_result",
          "data": {
            "text/plain": [
              "array([[[0.23137255, 0.36862745, 0.5254902 ],\n",
              "        [0.23137255, 0.36862745, 0.5254902 ],\n",
              "        [0.22745098, 0.37254902, 0.52156863],\n",
              "        ...,\n",
              "        [0.39215686, 0.48235294, 0.56862745],\n",
              "        [0.35686275, 0.4745098 , 0.54901961],\n",
              "        [0.35686275, 0.48235294, 0.55686275]],\n",
              "\n",
              "       [[0.25098039, 0.38823529, 0.54509804],\n",
              "        [0.24313725, 0.38823529, 0.5372549 ],\n",
              "        [0.24313725, 0.38431373, 0.53333333],\n",
              "        ...,\n",
              "        [0.38823529, 0.48235294, 0.56862745],\n",
              "        [0.36470588, 0.47843137, 0.56078431],\n",
              "        [0.36078431, 0.48627451, 0.56078431]],\n",
              "\n",
              "       [[0.23921569, 0.38431373, 0.53333333],\n",
              "        [0.24313725, 0.38823529, 0.5372549 ],\n",
              "        [0.24705882, 0.38823529, 0.5372549 ],\n",
              "        ...,\n",
              "        [0.36470588, 0.47058824, 0.55294118],\n",
              "        [0.35686275, 0.47843137, 0.56078431],\n",
              "        [0.35686275, 0.48627451, 0.56470588]],\n",
              "\n",
              "       ...,\n",
              "\n",
              "       [[0.29019608, 0.34117647, 0.46666667],\n",
              "        [0.2627451 , 0.34117647, 0.4627451 ],\n",
              "        [0.25098039, 0.36470588, 0.47058824],\n",
              "        ...,\n",
              "        [0.31372549, 0.4       , 0.44313725],\n",
              "        [0.34901961, 0.41176471, 0.45882353],\n",
              "        [0.34509804, 0.40392157, 0.43921569]],\n",
              "\n",
              "       [[0.25882353, 0.3372549 , 0.45882353],\n",
              "        [0.26666667, 0.34901961, 0.47058824],\n",
              "        [0.23529412, 0.34117647, 0.44705882],\n",
              "        ...,\n",
              "        [0.30588235, 0.39215686, 0.43529412],\n",
              "        [0.32941176, 0.4       , 0.44313725],\n",
              "        [0.3372549 , 0.4       , 0.44705882]],\n",
              "\n",
              "       [[0.25490196, 0.34901961, 0.46666667],\n",
              "        [0.26666667, 0.36078431, 0.47843137],\n",
              "        [0.23921569, 0.34509804, 0.45098039],\n",
              "        ...,\n",
              "        [0.30196078, 0.38823529, 0.43137255],\n",
              "        [0.32941176, 0.39607843, 0.44705882],\n",
              "        [0.33333333, 0.4       , 0.45098039]]])"
            ]
          },
          "metadata": {},
          "execution_count": 15
        }
      ]
    },
    {
      "cell_type": "code",
      "source": [
        "# Create tensor example with X_train image\n",
        "input_tensor = tf.convert_to_tensor(X_train)"
      ],
      "metadata": {
        "id": "1anYZ_j-hZUd"
      },
      "execution_count": null,
      "outputs": []
    },
    {
      "cell_type": "code",
      "source": [
        "# Ensure X_train is float32 and converted to NumPy\n",
        "X_train = tf.cast(X_train, tf.float32).numpy()\n",
        "\n",
        "# Debug: Print the actual input layer name\n",
        "print(\"Model Input Name:\", model.input.name)  # Check the real input name\n",
        "\n",
        "# Extract the correct input layer name (remove \":0\" if present)\n",
        "input_layer_name = model.input.name.split(\":\")[0]\n",
        "\n",
        "# Debug: Ensure input layer name matches OpenVINO expectation\n",
        "print(\"Using Input Name:\", input_layer_name)\n",
        "\n",
        "# Ensure the example input uses the correct key and is a single sample\n",
        "example_input = {input_layer_name: X_train[:1]}  # Provide a batch of 1\n",
        "\n",
        "# Convert the model to OpenVINO format\n",
        "ov_model = ov.convert_model(model, example_input=example_input)"
      ],
      "metadata": {
        "colab": {
          "base_uri": "https://localhost:8080/",
          "height": 1000
        },
        "id": "-E1_a3knNQ8p",
        "outputId": "370f05d6-c90e-4834-dc57-0396ffc76e16"
      },
      "execution_count": null,
      "outputs": [
        {
          "output_type": "stream",
          "name": "stdout",
          "text": [
            "Model Input Name: keras_tensor_71\n",
            "Using Input Name: keras_tensor_71\n"
          ]
        },
        {
          "output_type": "error",
          "ename": "Exception",
          "evalue": "Could not trace the TF model with the following error: Binding inputs to tf.function failed due to `Attempt to convert a value ({'keras_tensor_71': array([[[[0.23137255, 0.36862746, 0.5254902 ],\n         [0.23137255, 0.36862746, 0.5254902 ],\n         [0.22745098, 0.37254903, 0.52156866],\n         ...,\n         [0.39215687, 0.48235294, 0.5686275 ],\n         [0.35686275, 0.4745098 , 0.54901963],\n         [0.35686275, 0.48235294, 0.5568628 ]],\n\n        [[0.2509804 , 0.3882353 , 0.54509807],\n         [0.24313726, 0.3882353 , 0.5372549 ],\n         [0.24313726, 0.38431373, 0.53333336],\n         ...,\n         [0.3882353 , 0.48235294, 0.5686275 ],\n         [0.3647059 , 0.47843137, 0.56078434],\n         [0.36078432, 0.4862745 , 0.56078434]],\n\n        [[0.23921569, 0.38431373, 0.53333336],\n         [0.24313726, 0.3882353 , 0.5372549 ],\n         [0.24705882, 0.3882353 , 0.5372549 ],\n         ...,\n         [0.3647059 , 0.47058824, 0.5529412 ],\n         [0.35686275, 0.47843137, 0.56078434],\n         [0.35686275, 0.4862745 , 0.5647059 ]],\n\n        ...,\n\n        [[0.2901961 , 0.34117648, 0.46666667],\n         [0.2627451 , 0.34117648, 0.4627451 ],\n         [0.2509804 , 0.3647059 , 0.47058824],\n         ...,\n         [0.3137255 , 0.4       , 0.44313726],\n         [0.34901962, 0.4117647 , 0.45882353],\n         [0.34509805, 0.40392157, 0.4392157 ]],\n\n        [[0.25882354, 0.3372549 , 0.45882353],\n         [0.26666668, 0.34901962, 0.47058824],\n         [0.23529412, 0.34117648, 0.44705883],\n         ...,\n         [0.30588236, 0.39215687, 0.43529412],\n         [0.32941177, 0.4       , 0.44313726],\n         [0.3372549 , 0.4       , 0.44705883]],\n\n        [[0.25490198, 0.34901962, 0.46666667],\n         [0.26666668, 0.36078432, 0.47843137],\n         [0.23921569, 0.34509805, 0.4509804 ],\n         ...,\n         [0.3019608 , 0.3882353 , 0.43137255],\n         [0.32941177, 0.39607844, 0.44705883],\n         [0.33333334, 0.4       , 0.4509804 ]]]], dtype=float32)}) with an unsupported type (<class 'dict'>) to a Tensor.`. Received args: ({'keras_tensor_71': array([[[[0.23137255, 0.36862746, 0.5254902 ],\n         [0.23137255, 0.36862746, 0.5254902 ],\n         [0.22745098, 0.37254903, 0.52156866],\n         ...,\n         [0.39215687, 0.48235294, 0.5686275 ],\n         [0.35686275, 0.4745098 , 0.54901963],\n         [0.35686275, 0.48235294, 0.5568628 ]],\n\n        [[0.2509804 , 0.3882353 , 0.54509807],\n         [0.24313726, 0.3882353 , 0.5372549 ],\n         [0.24313726, 0.38431373, 0.53333336],\n         ...,\n         [0.3882353 , 0.48235294, 0.5686275 ],\n         [0.3647059 , 0.47843137, 0.56078434],\n         [0.36078432, 0.4862745 , 0.56078434]],\n\n        [[0.23921569, 0.38431373, 0.53333336],\n         [0.24313726, 0.3882353 , 0.5372549 ],\n         [0.24705882, 0.3882353 , 0.5372549 ],\n         ...,\n         [0.3647059 , 0.47058824, 0.5529412 ],\n         [0.35686275, 0.47843137, 0.56078434],\n         [0.35686275, 0.4862745 , 0.5647059 ]],\n\n        ...,\n\n        [[0.2901961 , 0.34117648, 0.46666667],\n         [0.2627451 , 0.34117648, 0.4627451 ],\n         [0.2509804 , 0.3647059 , 0.47058824],\n         ...,\n         [0.3137255 , 0.4       , 0.44313726],\n         [0.34901962, 0.4117647 , 0.45882353],\n         [0.34509805, 0.40392157, 0.4392157 ]],\n\n        [[0.25882354, 0.3372549 , 0.45882353],\n         [0.26666668, 0.34901962, 0.47058824],\n         [0.23529412, 0.34117648, 0.44705883],\n         ...,\n         [0.30588236, 0.39215687, 0.43529412],\n         [0.32941177, 0.4       , 0.44313726],\n         [0.3372549 , 0.4       , 0.44705883]],\n\n        [[0.25490198, 0.34901962, 0.46666667],\n         [0.26666668, 0.36078432, 0.47843137],\n         [0.23921569, 0.34509805, 0.4509804 ],\n         ...,\n         [0.3019608 , 0.3882353 , 0.43137255],\n         [0.32941177, 0.39607844, 0.44705883],\n         [0.33333334, 0.4       , 0.4509804 ]]]], dtype=float32)},) and kwargs: {} for signature: (args_0: TensorSpec(shape=(None, 50, 50, 3), dtype=tf.float32, name='keras_tensor_71'), /).",
          "traceback": [
            "\u001b[0;31m---------------------------------------------------------------------------\u001b[0m",
            "\u001b[0;31mValueError\u001b[0m                                Traceback (most recent call last)",
            "\u001b[0;32m/usr/local/lib/python3.11/dist-packages/tensorflow/python/eager/polymorphic_function/function_type_utils.py\u001b[0m in \u001b[0;36mbind_function_inputs\u001b[0;34m(args, kwargs, function_type, default_values)\u001b[0m\n\u001b[1;32m    441\u001b[0m   \u001b[0;32mtry\u001b[0m\u001b[0;34m:\u001b[0m\u001b[0;34m\u001b[0m\u001b[0;34m\u001b[0m\u001b[0m\n\u001b[0;32m--> 442\u001b[0;31m     bound_arguments = function_type.bind_with_defaults(\n\u001b[0m\u001b[1;32m    443\u001b[0m         \u001b[0margs\u001b[0m\u001b[0;34m,\u001b[0m \u001b[0msanitized_kwargs\u001b[0m\u001b[0;34m,\u001b[0m \u001b[0mdefault_values\u001b[0m\u001b[0;34m\u001b[0m\u001b[0;34m\u001b[0m\u001b[0m\n",
            "\u001b[0;32m/usr/local/lib/python3.11/dist-packages/tensorflow/core/function/polymorphism/function_type.py\u001b[0m in \u001b[0;36mbind_with_defaults\u001b[0;34m(self, args, kwargs, default_values)\u001b[0m\n\u001b[1;32m    276\u001b[0m       \u001b[0;32mif\u001b[0m \u001b[0mconstraint\u001b[0m\u001b[0;34m:\u001b[0m\u001b[0;34m\u001b[0m\u001b[0;34m\u001b[0m\u001b[0m\n\u001b[0;32m--> 277\u001b[0;31m         with_default_args[arg_name] = constraint.cast(\n\u001b[0m\u001b[1;32m    278\u001b[0m             \u001b[0mwith_default_args\u001b[0m\u001b[0;34m[\u001b[0m\u001b[0marg_name\u001b[0m\u001b[0;34m]\u001b[0m\u001b[0;34m,\u001b[0m\u001b[0;34m\u001b[0m\u001b[0;34m\u001b[0m\u001b[0m\n",
            "\u001b[0;32m/usr/local/lib/python3.11/dist-packages/tensorflow/python/framework/tensor.py\u001b[0m in \u001b[0;36mcast\u001b[0;34m(self, value, casting_context)\u001b[0m\n\u001b[1;32m   1107\u001b[0m     \u001b[0;32mif\u001b[0m \u001b[0;32mnot\u001b[0m \u001b[0misinstance\u001b[0m\u001b[0;34m(\u001b[0m\u001b[0mvalue\u001b[0m\u001b[0;34m,\u001b[0m \u001b[0mTensor\u001b[0m\u001b[0;34m)\u001b[0m\u001b[0;34m:\u001b[0m\u001b[0;34m\u001b[0m\u001b[0;34m\u001b[0m\u001b[0m\n\u001b[0;32m-> 1108\u001b[0;31m       \u001b[0mvalue\u001b[0m \u001b[0;34m=\u001b[0m \u001b[0mtensor_conversion_registry\u001b[0m\u001b[0;34m.\u001b[0m\u001b[0mconvert\u001b[0m\u001b[0;34m(\u001b[0m\u001b[0mvalue\u001b[0m\u001b[0;34m,\u001b[0m \u001b[0mself\u001b[0m\u001b[0;34m.\u001b[0m\u001b[0mdtype\u001b[0m\u001b[0;34m)\u001b[0m\u001b[0;34m\u001b[0m\u001b[0;34m\u001b[0m\u001b[0m\n\u001b[0m\u001b[1;32m   1109\u001b[0m     \u001b[0mvalue_spec\u001b[0m \u001b[0;34m=\u001b[0m \u001b[0mTensorSpec\u001b[0m\u001b[0;34m(\u001b[0m\u001b[0mvalue\u001b[0m\u001b[0;34m.\u001b[0m\u001b[0mshape\u001b[0m\u001b[0;34m,\u001b[0m \u001b[0mvalue\u001b[0m\u001b[0;34m.\u001b[0m\u001b[0mdtype\u001b[0m\u001b[0;34m,\u001b[0m \u001b[0mself\u001b[0m\u001b[0;34m.\u001b[0m\u001b[0mname\u001b[0m\u001b[0;34m)\u001b[0m\u001b[0;34m\u001b[0m\u001b[0;34m\u001b[0m\u001b[0m\n",
            "\u001b[0;32m/usr/local/lib/python3.11/dist-packages/tensorflow/python/framework/tensor_conversion_registry.py\u001b[0m in \u001b[0;36mconvert\u001b[0;34m(value, dtype, name, as_ref, preferred_dtype, accepted_result_types)\u001b[0m\n\u001b[1;32m    233\u001b[0m     \u001b[0;32mif\u001b[0m \u001b[0mret\u001b[0m \u001b[0;32mis\u001b[0m \u001b[0;32mNone\u001b[0m\u001b[0;34m:\u001b[0m\u001b[0;34m\u001b[0m\u001b[0;34m\u001b[0m\u001b[0m\n\u001b[0;32m--> 234\u001b[0;31m       \u001b[0mret\u001b[0m \u001b[0;34m=\u001b[0m \u001b[0mconversion_func\u001b[0m\u001b[0;34m(\u001b[0m\u001b[0mvalue\u001b[0m\u001b[0;34m,\u001b[0m \u001b[0mdtype\u001b[0m\u001b[0;34m=\u001b[0m\u001b[0mdtype\u001b[0m\u001b[0;34m,\u001b[0m \u001b[0mname\u001b[0m\u001b[0;34m=\u001b[0m\u001b[0mname\u001b[0m\u001b[0;34m,\u001b[0m \u001b[0mas_ref\u001b[0m\u001b[0;34m=\u001b[0m\u001b[0mas_ref\u001b[0m\u001b[0;34m)\u001b[0m\u001b[0;34m\u001b[0m\u001b[0;34m\u001b[0m\u001b[0m\n\u001b[0m\u001b[1;32m    235\u001b[0m \u001b[0;34m\u001b[0m\u001b[0m\n",
            "\u001b[0;32m/usr/local/lib/python3.11/dist-packages/tensorflow/python/framework/constant_tensor_conversion.py\u001b[0m in \u001b[0;36m_constant_tensor_conversion_function\u001b[0;34m(v, dtype, name, as_ref)\u001b[0m\n\u001b[1;32m     28\u001b[0m   \u001b[0m_\u001b[0m \u001b[0;34m=\u001b[0m \u001b[0mas_ref\u001b[0m\u001b[0;34m\u001b[0m\u001b[0;34m\u001b[0m\u001b[0m\n\u001b[0;32m---> 29\u001b[0;31m   \u001b[0;32mreturn\u001b[0m \u001b[0mconstant_op\u001b[0m\u001b[0;34m.\u001b[0m\u001b[0mconstant\u001b[0m\u001b[0;34m(\u001b[0m\u001b[0mv\u001b[0m\u001b[0;34m,\u001b[0m \u001b[0mdtype\u001b[0m\u001b[0;34m=\u001b[0m\u001b[0mdtype\u001b[0m\u001b[0;34m,\u001b[0m \u001b[0mname\u001b[0m\u001b[0;34m=\u001b[0m\u001b[0mname\u001b[0m\u001b[0;34m)\u001b[0m\u001b[0;34m\u001b[0m\u001b[0;34m\u001b[0m\u001b[0m\n\u001b[0m\u001b[1;32m     30\u001b[0m \u001b[0;34m\u001b[0m\u001b[0m\n",
            "\u001b[0;32m/usr/local/lib/python3.11/dist-packages/tensorflow/python/ops/weak_tensor_ops.py\u001b[0m in \u001b[0;36mwrapper\u001b[0;34m(*args, **kwargs)\u001b[0m\n\u001b[1;32m    141\u001b[0m     \u001b[0;32mif\u001b[0m \u001b[0;32mnot\u001b[0m \u001b[0mops\u001b[0m\u001b[0;34m.\u001b[0m\u001b[0mis_auto_dtype_conversion_enabled\u001b[0m\u001b[0;34m(\u001b[0m\u001b[0;34m)\u001b[0m\u001b[0;34m:\u001b[0m\u001b[0;34m\u001b[0m\u001b[0;34m\u001b[0m\u001b[0m\n\u001b[0;32m--> 142\u001b[0;31m       \u001b[0;32mreturn\u001b[0m \u001b[0mop\u001b[0m\u001b[0;34m(\u001b[0m\u001b[0;34m*\u001b[0m\u001b[0margs\u001b[0m\u001b[0;34m,\u001b[0m \u001b[0;34m**\u001b[0m\u001b[0mkwargs\u001b[0m\u001b[0;34m)\u001b[0m\u001b[0;34m\u001b[0m\u001b[0;34m\u001b[0m\u001b[0m\n\u001b[0m\u001b[1;32m    143\u001b[0m     \u001b[0mbound_arguments\u001b[0m \u001b[0;34m=\u001b[0m \u001b[0msignature\u001b[0m\u001b[0;34m.\u001b[0m\u001b[0mbind\u001b[0m\u001b[0;34m(\u001b[0m\u001b[0;34m*\u001b[0m\u001b[0margs\u001b[0m\u001b[0;34m,\u001b[0m \u001b[0;34m**\u001b[0m\u001b[0mkwargs\u001b[0m\u001b[0;34m)\u001b[0m\u001b[0;34m\u001b[0m\u001b[0;34m\u001b[0m\u001b[0m\n",
            "\u001b[0;32m/usr/local/lib/python3.11/dist-packages/tensorflow/python/framework/constant_op.py\u001b[0m in \u001b[0;36mconstant\u001b[0;34m(value, dtype, shape, name)\u001b[0m\n\u001b[1;32m    275\u001b[0m   \"\"\"\n\u001b[0;32m--> 276\u001b[0;31m   return _constant_impl(value, dtype, shape, name, verify_shape=False,\n\u001b[0m\u001b[1;32m    277\u001b[0m                         allow_broadcast=True)\n",
            "\u001b[0;32m/usr/local/lib/python3.11/dist-packages/tensorflow/python/framework/constant_op.py\u001b[0m in \u001b[0;36m_constant_impl\u001b[0;34m(value, dtype, shape, name, verify_shape, allow_broadcast)\u001b[0m\n\u001b[1;32m    288\u001b[0m         \u001b[0;32mreturn\u001b[0m \u001b[0m_constant_eager_impl\u001b[0m\u001b[0;34m(\u001b[0m\u001b[0mctx\u001b[0m\u001b[0;34m,\u001b[0m \u001b[0mvalue\u001b[0m\u001b[0;34m,\u001b[0m \u001b[0mdtype\u001b[0m\u001b[0;34m,\u001b[0m \u001b[0mshape\u001b[0m\u001b[0;34m,\u001b[0m \u001b[0mverify_shape\u001b[0m\u001b[0;34m)\u001b[0m\u001b[0;34m\u001b[0m\u001b[0;34m\u001b[0m\u001b[0m\n\u001b[0;32m--> 289\u001b[0;31m     \u001b[0;32mreturn\u001b[0m \u001b[0m_constant_eager_impl\u001b[0m\u001b[0;34m(\u001b[0m\u001b[0mctx\u001b[0m\u001b[0;34m,\u001b[0m \u001b[0mvalue\u001b[0m\u001b[0;34m,\u001b[0m \u001b[0mdtype\u001b[0m\u001b[0;34m,\u001b[0m \u001b[0mshape\u001b[0m\u001b[0;34m,\u001b[0m \u001b[0mverify_shape\u001b[0m\u001b[0;34m)\u001b[0m\u001b[0;34m\u001b[0m\u001b[0;34m\u001b[0m\u001b[0m\n\u001b[0m\u001b[1;32m    290\u001b[0m \u001b[0;34m\u001b[0m\u001b[0m\n",
            "\u001b[0;32m/usr/local/lib/python3.11/dist-packages/tensorflow/python/framework/constant_op.py\u001b[0m in \u001b[0;36m_constant_eager_impl\u001b[0;34m(ctx, value, dtype, shape, verify_shape)\u001b[0m\n\u001b[1;32m    300\u001b[0m   \u001b[0;34m\"\"\"Creates a constant on the current device.\"\"\"\u001b[0m\u001b[0;34m\u001b[0m\u001b[0;34m\u001b[0m\u001b[0m\n\u001b[0;32m--> 301\u001b[0;31m   \u001b[0mt\u001b[0m \u001b[0;34m=\u001b[0m \u001b[0mconvert_to_eager_tensor\u001b[0m\u001b[0;34m(\u001b[0m\u001b[0mvalue\u001b[0m\u001b[0;34m,\u001b[0m \u001b[0mctx\u001b[0m\u001b[0;34m,\u001b[0m \u001b[0mdtype\u001b[0m\u001b[0;34m)\u001b[0m\u001b[0;34m\u001b[0m\u001b[0;34m\u001b[0m\u001b[0m\n\u001b[0m\u001b[1;32m    302\u001b[0m   \u001b[0;32mif\u001b[0m \u001b[0mshape\u001b[0m \u001b[0;32mis\u001b[0m \u001b[0;32mNone\u001b[0m\u001b[0;34m:\u001b[0m\u001b[0;34m\u001b[0m\u001b[0;34m\u001b[0m\u001b[0m\n",
            "\u001b[0;32m/usr/local/lib/python3.11/dist-packages/tensorflow/python/framework/constant_op.py\u001b[0m in \u001b[0;36mconvert_to_eager_tensor\u001b[0;34m(value, ctx, dtype)\u001b[0m\n\u001b[1;32m    107\u001b[0m   \u001b[0mctx\u001b[0m\u001b[0;34m.\u001b[0m\u001b[0mensure_initialized\u001b[0m\u001b[0;34m(\u001b[0m\u001b[0;34m)\u001b[0m\u001b[0;34m\u001b[0m\u001b[0;34m\u001b[0m\u001b[0m\n\u001b[0;32m--> 108\u001b[0;31m   \u001b[0;32mreturn\u001b[0m \u001b[0mops\u001b[0m\u001b[0;34m.\u001b[0m\u001b[0mEagerTensor\u001b[0m\u001b[0;34m(\u001b[0m\u001b[0mvalue\u001b[0m\u001b[0;34m,\u001b[0m \u001b[0mctx\u001b[0m\u001b[0;34m.\u001b[0m\u001b[0mdevice_name\u001b[0m\u001b[0;34m,\u001b[0m \u001b[0mdtype\u001b[0m\u001b[0;34m)\u001b[0m\u001b[0;34m\u001b[0m\u001b[0;34m\u001b[0m\u001b[0m\n\u001b[0m\u001b[1;32m    109\u001b[0m \u001b[0;34m\u001b[0m\u001b[0m\n",
            "\u001b[0;31mValueError\u001b[0m: Attempt to convert a value ({'keras_tensor_71': array([[[[0.23137255, 0.36862746, 0.5254902 ],\n         [0.23137255, 0.36862746, 0.5254902 ],\n         [0.22745098, 0.37254903, 0.52156866],\n         ...,\n         [0.39215687, 0.48235294, 0.5686275 ],\n         [0.35686275, 0.4745098 , 0.54901963],\n         [0.35686275, 0.48235294, 0.5568628 ]],\n\n        [[0.2509804 , 0.3882353 , 0.54509807],\n         [0.24313726, 0.3882353 , 0.5372549 ],\n         [0.24313726, 0.38431373, 0.53333336],\n         ...,\n         [0.3882353 , 0.48235294, 0.5686275 ],\n         [0.3647059 , 0.47843137, 0.56078434],\n         [0.36078432, 0.4862745 , 0.56078434]],\n\n        [[0.23921569, 0.38431373, 0.53333336],\n         [0.24313726, 0.3882353 , 0.5372549 ],\n         [0.24705882, 0.3882353 , 0.5372549 ],\n         ...,\n         [0.3647059 , 0.47058824, 0.5529412 ],\n         [0.35686275, 0.47843137, 0.56078434],\n         [0.35686275, 0.4862745 , 0.5647059 ]],\n\n        ...,\n\n        [[0.2901961 , 0.34117648, 0.46666667],\n         [0.2627451 , 0.34117648, 0.4627451 ],\n         [0.2509804 , 0.3647059 , 0.47058824],\n         ...,\n         [0.3137255 , 0.4       , 0.44313726],\n         [0.34901962, 0.4117647 , 0.45882353],\n         [0.34509805, 0.40392157, 0.4392157 ]],\n\n        [[0.25882354, 0.3372549 , 0.45882353],\n         [0.26666668, 0.34901962, 0.47058824],\n         [0.23529412, 0.34117648, 0.44705883],\n         ...,\n         [0.30588236, 0.39215687, 0.43529412],\n         [0.32941177, 0.4       , 0.44313726],\n         [0.3372549 , 0.4       , 0.44705883]],\n\n        [[0.25490198, 0.34901962, 0.46666667],\n         [0.26666668, 0.36078432, 0.47843137],\n         [0.23921569, 0.34509805, 0.4509804 ],\n         ...,\n         [0.3019608 , 0.3882353 , 0.43137255],\n         [0.32941177, 0.39607844, 0.44705883],\n         [0.33333334, 0.4       , 0.4509804 ]]]], dtype=float32)}) with an unsupported type (<class 'dict'>) to a Tensor.",
            "\nThe above exception was the direct cause of the following exception:\n",
            "\u001b[0;31mTypeError\u001b[0m                                 Traceback (most recent call last)",
            "\u001b[0;32m/usr/local/lib/python3.11/dist-packages/openvino/frontend/tensorflow/utils.py\u001b[0m in \u001b[0;36mget_concrete_func\u001b[0;34m(tf_function, example_input, input_needs_packing, error_message, use_example_input)\u001b[0m\n\u001b[1;32m    144\u001b[0m             \u001b[0;32melse\u001b[0m\u001b[0;34m:\u001b[0m\u001b[0;34m\u001b[0m\u001b[0;34m\u001b[0m\u001b[0m\n\u001b[0;32m--> 145\u001b[0;31m                 \u001b[0mconcrete_func\u001b[0m \u001b[0;34m=\u001b[0m \u001b[0mtf_function\u001b[0m\u001b[0;34m.\u001b[0m\u001b[0mget_concrete_function\u001b[0m\u001b[0;34m(\u001b[0m\u001b[0mexample_input\u001b[0m\u001b[0;34m)\u001b[0m\u001b[0;34m\u001b[0m\u001b[0;34m\u001b[0m\u001b[0m\n\u001b[0m\u001b[1;32m    146\u001b[0m \u001b[0;34m\u001b[0m\u001b[0m\n",
            "\u001b[0;32m/usr/local/lib/python3.11/dist-packages/tensorflow/python/eager/polymorphic_function/polymorphic_function.py\u001b[0m in \u001b[0;36mget_concrete_function\u001b[0;34m(self, *args, **kwargs)\u001b[0m\n\u001b[1;32m   1250\u001b[0m     \u001b[0;31m# Implements PolymorphicFunction.get_concrete_function.\u001b[0m\u001b[0;34m\u001b[0m\u001b[0;34m\u001b[0m\u001b[0m\n\u001b[0;32m-> 1251\u001b[0;31m     \u001b[0mconcrete\u001b[0m \u001b[0;34m=\u001b[0m \u001b[0mself\u001b[0m\u001b[0;34m.\u001b[0m\u001b[0m_get_concrete_function_garbage_collected\u001b[0m\u001b[0;34m(\u001b[0m\u001b[0;34m*\u001b[0m\u001b[0margs\u001b[0m\u001b[0;34m,\u001b[0m \u001b[0;34m**\u001b[0m\u001b[0mkwargs\u001b[0m\u001b[0;34m)\u001b[0m\u001b[0;34m\u001b[0m\u001b[0;34m\u001b[0m\u001b[0m\n\u001b[0m\u001b[1;32m   1252\u001b[0m     \u001b[0mconcrete\u001b[0m\u001b[0;34m.\u001b[0m\u001b[0m_garbage_collector\u001b[0m\u001b[0;34m.\u001b[0m\u001b[0mrelease\u001b[0m\u001b[0;34m(\u001b[0m\u001b[0;34m)\u001b[0m  \u001b[0;31m# pylint: disable=protected-access\u001b[0m\u001b[0;34m\u001b[0m\u001b[0;34m\u001b[0m\u001b[0m\n",
            "\u001b[0;32m/usr/local/lib/python3.11/dist-packages/tensorflow/python/eager/polymorphic_function/polymorphic_function.py\u001b[0m in \u001b[0;36m_get_concrete_function_garbage_collected\u001b[0;34m(self, *args, **kwargs)\u001b[0m\n\u001b[1;32m   1220\u001b[0m         \u001b[0minitializers\u001b[0m \u001b[0;34m=\u001b[0m \u001b[0;34m[\u001b[0m\u001b[0;34m]\u001b[0m\u001b[0;34m\u001b[0m\u001b[0;34m\u001b[0m\u001b[0m\n\u001b[0;32m-> 1221\u001b[0;31m         \u001b[0mself\u001b[0m\u001b[0;34m.\u001b[0m\u001b[0m_initialize\u001b[0m\u001b[0;34m(\u001b[0m\u001b[0margs\u001b[0m\u001b[0;34m,\u001b[0m \u001b[0mkwargs\u001b[0m\u001b[0;34m,\u001b[0m \u001b[0madd_initializers_to\u001b[0m\u001b[0;34m=\u001b[0m\u001b[0minitializers\u001b[0m\u001b[0;34m)\u001b[0m\u001b[0;34m\u001b[0m\u001b[0;34m\u001b[0m\u001b[0m\n\u001b[0m\u001b[1;32m   1222\u001b[0m         \u001b[0mself\u001b[0m\u001b[0;34m.\u001b[0m\u001b[0m_initialize_uninitialized_variables\u001b[0m\u001b[0;34m(\u001b[0m\u001b[0minitializers\u001b[0m\u001b[0;34m)\u001b[0m\u001b[0;34m\u001b[0m\u001b[0;34m\u001b[0m\u001b[0m\n",
            "\u001b[0;32m/usr/local/lib/python3.11/dist-packages/tensorflow/python/eager/polymorphic_function/polymorphic_function.py\u001b[0m in \u001b[0;36m_initialize\u001b[0;34m(self, args, kwds, add_initializers_to)\u001b[0m\n\u001b[1;32m    695\u001b[0m     \u001b[0;31m# Force the definition of the function for these arguments\u001b[0m\u001b[0;34m\u001b[0m\u001b[0;34m\u001b[0m\u001b[0m\n\u001b[0;32m--> 696\u001b[0;31m     self._concrete_variable_creation_fn = tracing_compilation.trace_function(\n\u001b[0m\u001b[1;32m    697\u001b[0m         \u001b[0margs\u001b[0m\u001b[0;34m,\u001b[0m \u001b[0mkwds\u001b[0m\u001b[0;34m,\u001b[0m \u001b[0mself\u001b[0m\u001b[0;34m.\u001b[0m\u001b[0m_variable_creation_config\u001b[0m\u001b[0;34m\u001b[0m\u001b[0;34m\u001b[0m\u001b[0m\n",
            "\u001b[0;32m/usr/local/lib/python3.11/dist-packages/tensorflow/python/eager/polymorphic_function/tracing_compilation.py\u001b[0m in \u001b[0;36mtrace_function\u001b[0;34m(args, kwargs, tracing_options)\u001b[0m\n\u001b[1;32m    164\u001b[0m     \u001b[0;31m# Check to see if a valid type can be generated from the args, kwargs\u001b[0m\u001b[0;34m\u001b[0m\u001b[0;34m\u001b[0m\u001b[0m\n\u001b[0;32m--> 165\u001b[0;31m     bound_args = function_type_utils.bind_function_inputs(\n\u001b[0m\u001b[1;32m    166\u001b[0m         \u001b[0margs\u001b[0m\u001b[0;34m,\u001b[0m\u001b[0;34m\u001b[0m\u001b[0;34m\u001b[0m\u001b[0m\n",
            "\u001b[0;32m/usr/local/lib/python3.11/dist-packages/tensorflow/python/eager/polymorphic_function/function_type_utils.py\u001b[0m in \u001b[0;36mbind_function_inputs\u001b[0;34m(args, kwargs, function_type, default_values)\u001b[0m\n\u001b[1;32m    445\u001b[0m   \u001b[0;32mexcept\u001b[0m \u001b[0mException\u001b[0m \u001b[0;32mas\u001b[0m \u001b[0me\u001b[0m\u001b[0;34m:\u001b[0m\u001b[0;34m\u001b[0m\u001b[0;34m\u001b[0m\u001b[0m\n\u001b[0;32m--> 446\u001b[0;31m     raise TypeError(\n\u001b[0m\u001b[1;32m    447\u001b[0m         \u001b[0;34mf\"Binding inputs to tf.function failed due to `{e}`. \"\u001b[0m\u001b[0;34m\u001b[0m\u001b[0;34m\u001b[0m\u001b[0m\n",
            "\u001b[0;31mTypeError\u001b[0m: Binding inputs to tf.function failed due to `Attempt to convert a value ({'keras_tensor_71': array([[[[0.23137255, 0.36862746, 0.5254902 ],\n         [0.23137255, 0.36862746, 0.5254902 ],\n         [0.22745098, 0.37254903, 0.52156866],\n         ...,\n         [0.39215687, 0.48235294, 0.5686275 ],\n         [0.35686275, 0.4745098 , 0.54901963],\n         [0.35686275, 0.48235294, 0.5568628 ]],\n\n        [[0.2509804 , 0.3882353 , 0.54509807],\n         [0.24313726, 0.3882353 , 0.5372549 ],\n         [0.24313726, 0.38431373, 0.53333336],\n         ...,\n         [0.3882353 , 0.48235294, 0.5686275 ],\n         [0.3647059 , 0.47843137, 0.56078434],\n         [0.36078432, 0.4862745 , 0.56078434]],\n\n        [[0.23921569, 0.38431373, 0.53333336],\n         [0.24313726, 0.3882353 , 0.5372549 ],\n         [0.24705882, 0.3882353 , 0.5372549 ],\n         ...,\n         [0.3647059 , 0.47058824, 0.5529412 ],\n         [0.35686275, 0.47843137, 0.56078434],\n         [0.35686275, 0.4862745 , 0.5647059 ]],\n\n        ...,\n\n        [[0.2901961 , 0.34117648, 0.46666667],\n         [0.2627451 , 0.34117648, 0.4627451 ],\n         [0.2509804 , 0.3647059 , 0.47058824],\n         ...,\n         [0.3137255 , 0.4       , 0.44313726],\n         [0.34901962, 0.4117647 , 0.45882353],\n         [0.34509805, 0.40392157, 0.4392157 ]],\n\n        [[0.25882354, 0.3372549 , 0.45882353],\n         [0.26666668, 0.34901962, 0.47058824],\n         [0.23529412, 0.34117648, 0.44705883],\n         ...,\n         [0.30588236, 0.39215687, 0.43529412],\n         [0.32941177, 0.4       , 0.44313726],\n         [0.3372549 , 0.4       , 0.44705883]],\n\n        [[0.25490198, 0.34901962, 0.46666667],\n         [0.26666668, 0.36078432, 0.47843137],\n         [0.23921569, 0.34509805, 0.4509804 ],\n         ...,\n         [0.3019608 , 0.3882353 , 0.43137255],\n         [0.32941177, 0.39607844, 0.44705883],\n         [0.33333334, 0.4       , 0.4509804 ]]]], dtype=float32)}) with an unsupported type (<class 'dict'>) to a Tensor.`. Received args: ({'keras_tensor_71': array([[[[0.23137255, 0.36862746, 0.5254902 ],\n         [0.23137255, 0.36862746, 0.5254902 ],\n         [0.22745098, 0.37254903, 0.52156866],\n         ...,\n         [0.39215687, 0.48235294, 0.5686275 ],\n         [0.35686275, 0.4745098 , 0.54901963],\n         [0.35686275, 0.48235294, 0.5568628 ]],\n\n        [[0.2509804 , 0.3882353 , 0.54509807],\n         [0.24313726, 0.3882353 , 0.5372549 ],\n         [0.24313726, 0.38431373, 0.53333336],\n         ...,\n         [0.3882353 , 0.48235294, 0.5686275 ],\n         [0.3647059 , 0.47843137, 0.56078434],\n         [0.36078432, 0.4862745 , 0.56078434]],\n\n        [[0.23921569, 0.38431373, 0.53333336],\n         [0.24313726, 0.3882353 , 0.5372549 ],\n         [0.24705882, 0.3882353 , 0.5372549 ],\n         ...,\n         [0.3647059 , 0.47058824, 0.5529412 ],\n         [0.35686275, 0.47843137, 0.56078434],\n         [0.35686275, 0.4862745 , 0.5647059 ]],\n\n        ...,\n\n        [[0.2901961 , 0.34117648, 0.46666667],\n         [0.2627451 , 0.34117648, 0.4627451 ],\n         [0.2509804 , 0.3647059 , 0.47058824],\n         ...,\n         [0.3137255 , 0.4       , 0.44313726],\n         [0.34901962, 0.4117647 , 0.45882353],\n         [0.34509805, 0.40392157, 0.4392157 ]],\n\n        [[0.25882354, 0.3372549 , 0.45882353],\n         [0.26666668, 0.34901962, 0.47058824],\n         [0.23529412, 0.34117648, 0.44705883],\n         ...,\n         [0.30588236, 0.39215687, 0.43529412],\n         [0.32941177, 0.4       , 0.44313726],\n         [0.3372549 , 0.4       , 0.44705883]],\n\n        [[0.25490198, 0.34901962, 0.46666667],\n         [0.26666668, 0.36078432, 0.47843137],\n         [0.23921569, 0.34509805, 0.4509804 ],\n         ...,\n         [0.3019608 , 0.3882353 , 0.43137255],\n         [0.32941177, 0.39607844, 0.44705883],\n         [0.33333334, 0.4       , 0.4509804 ]]]], dtype=float32)},) and kwargs: {} for signature: (args_0: TensorSpec(shape=(None, 50, 50, 3), dtype=tf.float32, name='keras_tensor_71'), /).",
            "\nDuring handling of the above exception, another exception occurred:\n",
            "\u001b[0;31mException\u001b[0m                                 Traceback (most recent call last)",
            "\u001b[0;32m<ipython-input-58-dbc98baf4920>\u001b[0m in \u001b[0;36m<cell line: 0>\u001b[0;34m()\u001b[0m\n\u001b[1;32m     15\u001b[0m \u001b[0;34m\u001b[0m\u001b[0m\n\u001b[1;32m     16\u001b[0m \u001b[0;31m# Convert the model to OpenVINO format\u001b[0m\u001b[0;34m\u001b[0m\u001b[0;34m\u001b[0m\u001b[0m\n\u001b[0;32m---> 17\u001b[0;31m \u001b[0mov_model\u001b[0m \u001b[0;34m=\u001b[0m \u001b[0mov\u001b[0m\u001b[0;34m.\u001b[0m\u001b[0mconvert_model\u001b[0m\u001b[0;34m(\u001b[0m\u001b[0mmodel\u001b[0m\u001b[0;34m,\u001b[0m \u001b[0mexample_input\u001b[0m\u001b[0;34m=\u001b[0m\u001b[0mexample_input\u001b[0m\u001b[0;34m)\u001b[0m\u001b[0;34m\u001b[0m\u001b[0;34m\u001b[0m\u001b[0m\n\u001b[0m",
            "\u001b[0;32m/usr/local/lib/python3.11/dist-packages/openvino/tools/ovc/convert.py\u001b[0m in \u001b[0;36mconvert_model\u001b[0;34m(input_model, input, output, example_input, extension, verbose, share_weights)\u001b[0m\n\u001b[1;32m     99\u001b[0m     \u001b[0mlogger_state\u001b[0m \u001b[0;34m=\u001b[0m \u001b[0mget_logger_state\u001b[0m\u001b[0;34m(\u001b[0m\u001b[0;34m)\u001b[0m\u001b[0;34m\u001b[0m\u001b[0;34m\u001b[0m\u001b[0m\n\u001b[1;32m    100\u001b[0m     \u001b[0mcli_parser\u001b[0m \u001b[0;34m=\u001b[0m \u001b[0mget_all_cli_parser\u001b[0m\u001b[0;34m(\u001b[0m\u001b[0;34m)\u001b[0m\u001b[0;34m\u001b[0m\u001b[0;34m\u001b[0m\u001b[0m\n\u001b[0;32m--> 101\u001b[0;31m     \u001b[0mov_model\u001b[0m\u001b[0;34m,\u001b[0m \u001b[0m_\u001b[0m \u001b[0;34m=\u001b[0m \u001b[0m_convert\u001b[0m\u001b[0;34m(\u001b[0m\u001b[0mcli_parser\u001b[0m\u001b[0;34m,\u001b[0m \u001b[0mparams\u001b[0m\u001b[0;34m,\u001b[0m \u001b[0;32mTrue\u001b[0m\u001b[0;34m)\u001b[0m\u001b[0;34m\u001b[0m\u001b[0;34m\u001b[0m\u001b[0m\n\u001b[0m\u001b[1;32m    102\u001b[0m     \u001b[0mrestore_logger_state\u001b[0m\u001b[0;34m(\u001b[0m\u001b[0mlogger_state\u001b[0m\u001b[0;34m)\u001b[0m\u001b[0;34m\u001b[0m\u001b[0;34m\u001b[0m\u001b[0m\n\u001b[1;32m    103\u001b[0m     \u001b[0;32mreturn\u001b[0m \u001b[0mov_model\u001b[0m\u001b[0;34m\u001b[0m\u001b[0;34m\u001b[0m\u001b[0m\n",
            "\u001b[0;32m/usr/local/lib/python3.11/dist-packages/openvino/tools/ovc/convert_impl.py\u001b[0m in \u001b[0;36m_convert\u001b[0;34m(cli_parser, args, python_api_used)\u001b[0m\n\u001b[1;32m    532\u001b[0m         \u001b[0msend_conversion_result\u001b[0m\u001b[0;34m(\u001b[0m\u001b[0;34m'fail'\u001b[0m\u001b[0;34m)\u001b[0m\u001b[0;34m\u001b[0m\u001b[0;34m\u001b[0m\u001b[0m\n\u001b[1;32m    533\u001b[0m         \u001b[0;32mif\u001b[0m \u001b[0mpython_api_used\u001b[0m\u001b[0;34m:\u001b[0m\u001b[0;34m\u001b[0m\u001b[0;34m\u001b[0m\u001b[0m\n\u001b[0;32m--> 534\u001b[0;31m             \u001b[0;32mraise\u001b[0m \u001b[0me\u001b[0m\u001b[0;34m\u001b[0m\u001b[0;34m\u001b[0m\u001b[0m\n\u001b[0m\u001b[1;32m    535\u001b[0m         \u001b[0;32melse\u001b[0m\u001b[0;34m:\u001b[0m\u001b[0;34m\u001b[0m\u001b[0;34m\u001b[0m\u001b[0m\n\u001b[1;32m    536\u001b[0m             \u001b[0;32mreturn\u001b[0m \u001b[0;32mNone\u001b[0m\u001b[0;34m,\u001b[0m \u001b[0margv\u001b[0m\u001b[0;34m\u001b[0m\u001b[0;34m\u001b[0m\u001b[0m\n",
            "\u001b[0;32m/usr/local/lib/python3.11/dist-packages/openvino/tools/ovc/convert_impl.py\u001b[0m in \u001b[0;36m_convert\u001b[0;34m(cli_parser, args, python_api_used)\u001b[0m\n\u001b[1;32m    474\u001b[0m         \u001b[0margv\u001b[0m\u001b[0;34m.\u001b[0m\u001b[0mframework\u001b[0m \u001b[0;34m=\u001b[0m \u001b[0mmodel_framework\u001b[0m\u001b[0;34m\u001b[0m\u001b[0;34m\u001b[0m\u001b[0m\n\u001b[1;32m    475\u001b[0m \u001b[0;34m\u001b[0m\u001b[0m\n\u001b[0;32m--> 476\u001b[0;31m         \u001b[0mov_model\u001b[0m \u001b[0;34m=\u001b[0m \u001b[0mdriver\u001b[0m\u001b[0;34m(\u001b[0m\u001b[0margv\u001b[0m\u001b[0;34m,\u001b[0m \u001b[0;34m{\u001b[0m\u001b[0;34m\"conversion_parameters\"\u001b[0m\u001b[0;34m:\u001b[0m \u001b[0mnon_default_params\u001b[0m\u001b[0;34m}\u001b[0m\u001b[0;34m)\u001b[0m\u001b[0;34m\u001b[0m\u001b[0;34m\u001b[0m\u001b[0m\n\u001b[0m\u001b[1;32m    477\u001b[0m \u001b[0;34m\u001b[0m\u001b[0m\n\u001b[1;32m    478\u001b[0m         \u001b[0;32mif\u001b[0m \u001b[0minp_model_is_object\u001b[0m \u001b[0;32mand\u001b[0m \u001b[0mmodel_framework\u001b[0m \u001b[0;34m==\u001b[0m \u001b[0;34m\"paddle\"\u001b[0m\u001b[0;34m:\u001b[0m\u001b[0;34m\u001b[0m\u001b[0;34m\u001b[0m\u001b[0m\n",
            "\u001b[0;32m/usr/local/lib/python3.11/dist-packages/openvino/tools/ovc/convert_impl.py\u001b[0m in \u001b[0;36mdriver\u001b[0;34m(argv, non_default_params)\u001b[0m\n\u001b[1;32m    225\u001b[0m     \u001b[0mlog\u001b[0m\u001b[0;34m.\u001b[0m\u001b[0mdebug\u001b[0m\u001b[0;34m(\u001b[0m\u001b[0mstr\u001b[0m\u001b[0;34m(\u001b[0m\u001b[0mnon_default_params\u001b[0m\u001b[0;34m)\u001b[0m\u001b[0;34m)\u001b[0m\u001b[0;34m\u001b[0m\u001b[0;34m\u001b[0m\u001b[0m\n\u001b[1;32m    226\u001b[0m \u001b[0;34m\u001b[0m\u001b[0m\n\u001b[0;32m--> 227\u001b[0;31m     \u001b[0mov_model\u001b[0m \u001b[0;34m=\u001b[0m \u001b[0mmoc_emit_ir\u001b[0m\u001b[0;34m(\u001b[0m\u001b[0mprepare_ir\u001b[0m\u001b[0;34m(\u001b[0m\u001b[0margv\u001b[0m\u001b[0;34m)\u001b[0m\u001b[0;34m,\u001b[0m \u001b[0margv\u001b[0m\u001b[0;34m)\u001b[0m\u001b[0;34m\u001b[0m\u001b[0;34m\u001b[0m\u001b[0m\n\u001b[0m\u001b[1;32m    228\u001b[0m \u001b[0;34m\u001b[0m\u001b[0m\n\u001b[1;32m    229\u001b[0m     \u001b[0;32mreturn\u001b[0m \u001b[0mov_model\u001b[0m\u001b[0;34m\u001b[0m\u001b[0;34m\u001b[0m\u001b[0m\n",
            "\u001b[0;32m/usr/local/lib/python3.11/dist-packages/openvino/tools/ovc/convert_impl.py\u001b[0m in \u001b[0;36mprepare_ir\u001b[0;34m(argv)\u001b[0m\n\u001b[1;32m    165\u001b[0m         \u001b[0;31m# TODO: Should be moved to the same place where paddle and pytorch handle their objects\u001b[0m\u001b[0;34m\u001b[0m\u001b[0;34m\u001b[0m\u001b[0m\n\u001b[1;32m    166\u001b[0m         \u001b[0;32mif\u001b[0m \u001b[0margv\u001b[0m\u001b[0;34m.\u001b[0m\u001b[0mframework\u001b[0m \u001b[0;34m==\u001b[0m \u001b[0;34m'tf'\u001b[0m \u001b[0;32mand\u001b[0m \u001b[0margv\u001b[0m\u001b[0;34m.\u001b[0m\u001b[0mis_python_object\u001b[0m \u001b[0;32mand\u001b[0m \u001b[0mtype_supported_by_tf_fe\u001b[0m\u001b[0;34m(\u001b[0m\u001b[0margv\u001b[0m\u001b[0;34m.\u001b[0m\u001b[0minput_model\u001b[0m\u001b[0;34m)\u001b[0m\u001b[0;34m:\u001b[0m\u001b[0;34m\u001b[0m\u001b[0;34m\u001b[0m\u001b[0m\n\u001b[0;32m--> 167\u001b[0;31m             argv.input_model = create_tf_graph_iterator(argv.input_model,\n\u001b[0m\u001b[1;32m    168\u001b[0m                                                         \u001b[0margv\u001b[0m\u001b[0;34m.\u001b[0m\u001b[0mplaceholder_shapes\u001b[0m\u001b[0;34m,\u001b[0m\u001b[0;34m\u001b[0m\u001b[0;34m\u001b[0m\u001b[0m\n\u001b[1;32m    169\u001b[0m                                                         \u001b[0margv\u001b[0m\u001b[0;34m.\u001b[0m\u001b[0mplaceholder_data_types\u001b[0m\u001b[0;34m,\u001b[0m\u001b[0;34m\u001b[0m\u001b[0;34m\u001b[0m\u001b[0m\n",
            "\u001b[0;32m/usr/local/lib/python3.11/dist-packages/openvino/frontend/tensorflow/utils.py\u001b[0m in \u001b[0;36mcreate_tf_graph_iterator\u001b[0;34m(input_model, placeholder_shapes, placeholder_data_types, example_input, share_weights)\u001b[0m\n\u001b[1;32m    286\u001b[0m \u001b[0;34m\u001b[0m\u001b[0m\n\u001b[1;32m    287\u001b[0m \u001b[0;32mdef\u001b[0m \u001b[0mcreate_tf_graph_iterator\u001b[0m\u001b[0;34m(\u001b[0m\u001b[0minput_model\u001b[0m\u001b[0;34m,\u001b[0m \u001b[0mplaceholder_shapes\u001b[0m\u001b[0;34m,\u001b[0m \u001b[0mplaceholder_data_types\u001b[0m\u001b[0;34m,\u001b[0m \u001b[0mexample_input\u001b[0m\u001b[0;34m,\u001b[0m \u001b[0mshare_weights\u001b[0m\u001b[0;34m)\u001b[0m\u001b[0;34m:\u001b[0m\u001b[0;34m\u001b[0m\u001b[0;34m\u001b[0m\u001b[0m\n\u001b[0;32m--> 288\u001b[0;31m     \u001b[0minput_model\u001b[0m \u001b[0;34m=\u001b[0m \u001b[0mtrace_tf_model_if_needed\u001b[0m\u001b[0;34m(\u001b[0m\u001b[0minput_model\u001b[0m\u001b[0;34m,\u001b[0m \u001b[0mplaceholder_shapes\u001b[0m\u001b[0;34m,\u001b[0m \u001b[0mplaceholder_data_types\u001b[0m\u001b[0;34m,\u001b[0m \u001b[0mexample_input\u001b[0m\u001b[0;34m)\u001b[0m\u001b[0;34m\u001b[0m\u001b[0;34m\u001b[0m\u001b[0m\n\u001b[0m\u001b[1;32m    289\u001b[0m \u001b[0;34m\u001b[0m\u001b[0m\n\u001b[1;32m    290\u001b[0m     \u001b[0;32mimport\u001b[0m \u001b[0mtensorflow\u001b[0m \u001b[0;32mas\u001b[0m \u001b[0mtf\u001b[0m\u001b[0;34m\u001b[0m\u001b[0;34m\u001b[0m\u001b[0m\n",
            "\u001b[0;32m/usr/local/lib/python3.11/dist-packages/openvino/frontend/tensorflow/utils.py\u001b[0m in \u001b[0;36mtrace_tf_model_if_needed\u001b[0;34m(input_model, placeholder_shapes, placeholder_data_types, example_input)\u001b[0m\n\u001b[1;32m    104\u001b[0m                       (tf.keras.layers.Layer, tf.Module, tf.keras.Model, tf.types.experimental.GenericFunction)):\n\u001b[1;32m    105\u001b[0m         \u001b[0;32mreturn\u001b[0m \u001b[0minput_model\u001b[0m\u001b[0;34m\u001b[0m\u001b[0;34m\u001b[0m\u001b[0m\n\u001b[0;32m--> 106\u001b[0;31m     \u001b[0;32mreturn\u001b[0m \u001b[0mtrace_tf_model\u001b[0m\u001b[0;34m(\u001b[0m\u001b[0minput_model\u001b[0m\u001b[0;34m,\u001b[0m \u001b[0mplaceholder_shapes\u001b[0m\u001b[0;34m,\u001b[0m \u001b[0mplaceholder_data_types\u001b[0m\u001b[0;34m,\u001b[0m \u001b[0mexample_input\u001b[0m\u001b[0;34m)\u001b[0m\u001b[0;34m\u001b[0m\u001b[0;34m\u001b[0m\u001b[0m\n\u001b[0m\u001b[1;32m    107\u001b[0m \u001b[0;34m\u001b[0m\u001b[0m\n\u001b[1;32m    108\u001b[0m \u001b[0;34m\u001b[0m\u001b[0m\n",
            "\u001b[0;32m/usr/local/lib/python3.11/dist-packages/openvino/frontend/tensorflow/utils.py\u001b[0m in \u001b[0;36mtrace_tf_model\u001b[0;34m(model, input_shapes, input_types, example_input)\u001b[0m\n\u001b[1;32m    253\u001b[0m \u001b[0;34m\u001b[0m\u001b[0m\n\u001b[1;32m    254\u001b[0m     \u001b[0;32mif\u001b[0m \u001b[0mexample_input\u001b[0m \u001b[0;32mis\u001b[0m \u001b[0;32mnot\u001b[0m \u001b[0;32mNone\u001b[0m\u001b[0;34m:\u001b[0m\u001b[0;34m\u001b[0m\u001b[0;34m\u001b[0m\u001b[0m\n\u001b[0;32m--> 255\u001b[0;31m         concrete_func = get_concrete_func(tf_function, example_input, input_needs_packing,\n\u001b[0m\u001b[1;32m    256\u001b[0m                                           \"Could not trace the TF model with the following error: {}\")\n\u001b[1;32m    257\u001b[0m     \u001b[0;32melse\u001b[0m\u001b[0;34m:\u001b[0m\u001b[0;34m\u001b[0m\u001b[0;34m\u001b[0m\u001b[0m\n",
            "\u001b[0;32m/usr/local/lib/python3.11/dist-packages/openvino/frontend/tensorflow/utils.py\u001b[0m in \u001b[0;36mget_concrete_func\u001b[0;34m(tf_function, example_input, input_needs_packing, error_message, use_example_input)\u001b[0m\n\u001b[1;32m    148\u001b[0m             \u001b[0mconcrete_func\u001b[0m \u001b[0;34m=\u001b[0m \u001b[0mtf_function\u001b[0m\u001b[0;34m.\u001b[0m\u001b[0mget_concrete_function\u001b[0m\u001b[0;34m(\u001b[0m\u001b[0;34m)\u001b[0m\u001b[0;34m\u001b[0m\u001b[0;34m\u001b[0m\u001b[0m\n\u001b[1;32m    149\u001b[0m     \u001b[0;32mexcept\u001b[0m \u001b[0mException\u001b[0m \u001b[0;32mas\u001b[0m \u001b[0me\u001b[0m\u001b[0;34m:\u001b[0m\u001b[0;34m\u001b[0m\u001b[0;34m\u001b[0m\u001b[0m\n\u001b[0;32m--> 150\u001b[0;31m         \u001b[0;32mraise\u001b[0m \u001b[0mException\u001b[0m\u001b[0;34m(\u001b[0m\u001b[0merror_message\u001b[0m\u001b[0;34m.\u001b[0m\u001b[0mformat\u001b[0m\u001b[0;34m(\u001b[0m\u001b[0me\u001b[0m\u001b[0;34m)\u001b[0m\u001b[0;34m)\u001b[0m\u001b[0;34m\u001b[0m\u001b[0;34m\u001b[0m\u001b[0m\n\u001b[0m\u001b[1;32m    151\u001b[0m     \u001b[0;32mreturn\u001b[0m \u001b[0mconcrete_func\u001b[0m\u001b[0;34m\u001b[0m\u001b[0;34m\u001b[0m\u001b[0m\n\u001b[1;32m    152\u001b[0m \u001b[0;34m\u001b[0m\u001b[0m\n",
            "\u001b[0;31mException\u001b[0m: Could not trace the TF model with the following error: Binding inputs to tf.function failed due to `Attempt to convert a value ({'keras_tensor_71': array([[[[0.23137255, 0.36862746, 0.5254902 ],\n         [0.23137255, 0.36862746, 0.5254902 ],\n         [0.22745098, 0.37254903, 0.52156866],\n         ...,\n         [0.39215687, 0.48235294, 0.5686275 ],\n         [0.35686275, 0.4745098 , 0.54901963],\n         [0.35686275, 0.48235294, 0.5568628 ]],\n\n        [[0.2509804 , 0.3882353 , 0.54509807],\n         [0.24313726, 0.3882353 , 0.5372549 ],\n         [0.24313726, 0.38431373, 0.53333336],\n         ...,\n         [0.3882353 , 0.48235294, 0.5686275 ],\n         [0.3647059 , 0.47843137, 0.56078434],\n         [0.36078432, 0.4862745 , 0.56078434]],\n\n        [[0.23921569, 0.38431373, 0.53333336],\n         [0.24313726, 0.3882353 , 0.5372549 ],\n         [0.24705882, 0.3882353 , 0.5372549 ],\n         ...,\n         [0.3647059 , 0.47058824, 0.5529412 ],\n         [0.35686275, 0.47843137, 0.56078434],\n         [0.35686275, 0.4862745 , 0.5647059 ]],\n\n        ...,\n\n        [[0.2901961 , 0.34117648, 0.46666667],\n         [0.2627451 , 0.34117648, 0.4627451 ],\n         [0.2509804 , 0.3647059 , 0.47058824],\n         ...,\n         [0.3137255 , 0.4       , 0.44313726],\n         [0.34901962, 0.4117647 , 0.45882353],\n         [0.34509805, 0.40392157, 0.4392157 ]],\n\n        [[0.25882354, 0.3372549 , 0.45882353],\n         [0.26666668, 0.34901962, 0.47058824],\n         [0.23529412, 0.34117648, 0.44705883],\n         ...,\n         [0.30588236, 0.39215687, 0.43529412],\n         [0.32941177, 0.4       , 0.44313726],\n         [0.3372549 , 0.4       , 0.44705883]],\n\n        [[0.25490198, 0.34901962, 0.46666667],\n         [0.26666668, 0.36078432, 0.47843137],\n         [0.23921569, 0.34509805, 0.4509804 ],\n         ...,\n         [0.3019608 , 0.3882353 , 0.43137255],\n         [0.32941177, 0.39607844, 0.44705883],\n         [0.33333334, 0.4       , 0.4509804 ]]]], dtype=float32)}) with an unsupported type (<class 'dict'>) to a Tensor.`. Received args: ({'keras_tensor_71': array([[[[0.23137255, 0.36862746, 0.5254902 ],\n         [0.23137255, 0.36862746, 0.5254902 ],\n         [0.22745098, 0.37254903, 0.52156866],\n         ...,\n         [0.39215687, 0.48235294, 0.5686275 ],\n         [0.35686275, 0.4745098 , 0.54901963],\n         [0.35686275, 0.48235294, 0.5568628 ]],\n\n        [[0.2509804 , 0.3882353 , 0.54509807],\n         [0.24313726, 0.3882353 , 0.5372549 ],\n         [0.24313726, 0.38431373, 0.53333336],\n         ...,\n         [0.3882353 , 0.48235294, 0.5686275 ],\n         [0.3647059 , 0.47843137, 0.56078434],\n         [0.36078432, 0.4862745 , 0.56078434]],\n\n        [[0.23921569, 0.38431373, 0.53333336],\n         [0.24313726, 0.3882353 , 0.5372549 ],\n         [0.24705882, 0.3882353 , 0.5372549 ],\n         ...,\n         [0.3647059 , 0.47058824, 0.5529412 ],\n         [0.35686275, 0.47843137, 0.56078434],\n         [0.35686275, 0.4862745 , 0.5647059 ]],\n\n        ...,\n\n        [[0.2901961 , 0.34117648, 0.46666667],\n         [0.2627451 , 0.34117648, 0.4627451 ],\n         [0.2509804 , 0.3647059 , 0.47058824],\n         ...,\n         [0.3137255 , 0.4       , 0.44313726],\n         [0.34901962, 0.4117647 , 0.45882353],\n         [0.34509805, 0.40392157, 0.4392157 ]],\n\n        [[0.25882354, 0.3372549 , 0.45882353],\n         [0.26666668, 0.34901962, 0.47058824],\n         [0.23529412, 0.34117648, 0.44705883],\n         ...,\n         [0.30588236, 0.39215687, 0.43529412],\n         [0.32941177, 0.4       , 0.44313726],\n         [0.3372549 , 0.4       , 0.44705883]],\n\n        [[0.25490198, 0.34901962, 0.46666667],\n         [0.26666668, 0.36078432, 0.47843137],\n         [0.23921569, 0.34509805, 0.4509804 ],\n         ...,\n         [0.3019608 , 0.3882353 , 0.43137255],\n         [0.32941177, 0.39607844, 0.44705883],\n         [0.33333334, 0.4       , 0.4509804 ]]]], dtype=float32)},) and kwargs: {} for signature: (args_0: TensorSpec(shape=(None, 50, 50, 3), dtype=tf.float32, name='keras_tensor_71'), /)."
          ]
        }
      ]
    },
    {
      "cell_type": "code",
      "source": [
        "#Export the model to ONNX format\n",
        "!pip install tf2onnx\n",
        "import tf2onnx\n",
        "import onnx"
      ],
      "metadata": {
        "colab": {
          "base_uri": "https://localhost:8080/"
        },
        "id": "VVZDxqAqNWa5",
        "outputId": "8f72173d-be26-4fa3-edfa-f0640c7789ad"
      },
      "execution_count": null,
      "outputs": [
        {
          "output_type": "stream",
          "name": "stdout",
          "text": [
            "Requirement already satisfied: tf2onnx in /usr/local/lib/python3.11/dist-packages (1.16.1)\n",
            "Requirement already satisfied: numpy>=1.14.1 in /usr/local/lib/python3.11/dist-packages (from tf2onnx) (1.26.4)\n",
            "Requirement already satisfied: onnx>=1.4.1 in /usr/local/lib/python3.11/dist-packages (from tf2onnx) (1.17.0)\n",
            "Requirement already satisfied: requests in /usr/local/lib/python3.11/dist-packages (from tf2onnx) (2.32.3)\n",
            "Requirement already satisfied: six in /usr/local/lib/python3.11/dist-packages (from tf2onnx) (1.17.0)\n",
            "Requirement already satisfied: flatbuffers>=1.12 in /usr/local/lib/python3.11/dist-packages (from tf2onnx) (25.1.21)\n",
            "Requirement already satisfied: protobuf~=3.20 in /usr/local/lib/python3.11/dist-packages (from tf2onnx) (3.20.3)\n",
            "Requirement already satisfied: charset-normalizer<4,>=2 in /usr/local/lib/python3.11/dist-packages (from requests->tf2onnx) (3.4.1)\n",
            "Requirement already satisfied: idna<4,>=2.5 in /usr/local/lib/python3.11/dist-packages (from requests->tf2onnx) (3.10)\n",
            "Requirement already satisfied: urllib3<3,>=1.21.1 in /usr/local/lib/python3.11/dist-packages (from requests->tf2onnx) (2.3.0)\n",
            "Requirement already satisfied: certifi>=2017.4.17 in /usr/local/lib/python3.11/dist-packages (from requests->tf2onnx) (2024.12.14)\n"
          ]
        }
      ]
    },
    {
      "cell_type": "code",
      "source": [
        "# Convert the model to ONNX\n",
        "model.export(\"ResNet18.onnx\",format=\"onnx\")"
      ],
      "metadata": {
        "colab": {
          "base_uri": "https://localhost:8080/"
        },
        "id": "Kb3MA63KgGiU",
        "outputId": "822d507f-9291-4a19-aa24-d57316e3c6ab"
      },
      "execution_count": null,
      "outputs": [
        {
          "output_type": "stream",
          "name": "stdout",
          "text": [
            "Saved artifact at 'ResNet18.onnx'. The following endpoints are available:\n",
            "\n",
            "* Endpoint 'serve'\n",
            "  args_0 (POSITIONAL_ONLY): TensorSpec(shape=(None, 50, 50, 3), dtype=tf.float32, name='keras_tensor')\n",
            "Output Type:\n",
            "  TensorSpec(shape=(None, 37), dtype=tf.float32, name=None)\n",
            "Captures:\n",
            "  133133626415952: TensorSpec(shape=(), dtype=tf.resource, name=None)\n",
            "  133133626418640: TensorSpec(shape=(), dtype=tf.resource, name=None)\n",
            "  133133626418448: TensorSpec(shape=(), dtype=tf.resource, name=None)\n",
            "  133133626409808: TensorSpec(shape=(), dtype=tf.resource, name=None)\n",
            "  133133626417296: TensorSpec(shape=(), dtype=tf.resource, name=None)\n",
            "  133133626413648: TensorSpec(shape=(), dtype=tf.resource, name=None)\n",
            "  133133626411728: TensorSpec(shape=(), dtype=tf.resource, name=None)\n",
            "  133133626416720: TensorSpec(shape=(), dtype=tf.resource, name=None)\n",
            "  133133626417104: TensorSpec(shape=(), dtype=tf.resource, name=None)\n",
            "  133133626416336: TensorSpec(shape=(), dtype=tf.resource, name=None)\n",
            "  133133626416528: TensorSpec(shape=(), dtype=tf.resource, name=None)\n",
            "  133133626416144: TensorSpec(shape=(), dtype=tf.resource, name=None)\n",
            "  133133626421904: TensorSpec(shape=(), dtype=tf.resource, name=None)\n",
            "  133133626423056: TensorSpec(shape=(), dtype=tf.resource, name=None)\n",
            "  133133626414224: TensorSpec(shape=(), dtype=tf.resource, name=None)\n",
            "  133133626418832: TensorSpec(shape=(), dtype=tf.resource, name=None)\n",
            "  133133626422672: TensorSpec(shape=(), dtype=tf.resource, name=None)\n",
            "  133133626418256: TensorSpec(shape=(), dtype=tf.resource, name=None)\n",
            "  133133626420176: TensorSpec(shape=(), dtype=tf.resource, name=None)\n",
            "  133133626419408: TensorSpec(shape=(), dtype=tf.resource, name=None)\n",
            "  133133626423440: TensorSpec(shape=(), dtype=tf.resource, name=None)\n",
            "  133133626425168: TensorSpec(shape=(), dtype=tf.resource, name=None)\n",
            "  133133626424976: TensorSpec(shape=(), dtype=tf.resource, name=None)\n",
            "  133133626423248: TensorSpec(shape=(), dtype=tf.resource, name=None)\n",
            "  133133626422288: TensorSpec(shape=(), dtype=tf.resource, name=None)\n",
            "  133135988220624: TensorSpec(shape=(), dtype=tf.resource, name=None)\n",
            "  133133417481232: TensorSpec(shape=(), dtype=tf.resource, name=None)\n",
            "  133133417480464: TensorSpec(shape=(), dtype=tf.resource, name=None)\n",
            "  133135988224272: TensorSpec(shape=(), dtype=tf.resource, name=None)\n",
            "  133133417480272: TensorSpec(shape=(), dtype=tf.resource, name=None)\n",
            "  133133417481616: TensorSpec(shape=(), dtype=tf.resource, name=None)\n",
            "  133133417482768: TensorSpec(shape=(), dtype=tf.resource, name=None)\n",
            "  133133417483152: TensorSpec(shape=(), dtype=tf.resource, name=None)\n",
            "  133133417481040: TensorSpec(shape=(), dtype=tf.resource, name=None)\n",
            "  133133417482000: TensorSpec(shape=(), dtype=tf.resource, name=None)\n",
            "  133133417482960: TensorSpec(shape=(), dtype=tf.resource, name=None)\n",
            "  133133417483920: TensorSpec(shape=(), dtype=tf.resource, name=None)\n",
            "  133133417485072: TensorSpec(shape=(), dtype=tf.resource, name=None)\n",
            "  133133417480848: TensorSpec(shape=(), dtype=tf.resource, name=None)\n",
            "  133133417485264: TensorSpec(shape=(), dtype=tf.resource, name=None)\n",
            "  133133417484304: TensorSpec(shape=(), dtype=tf.resource, name=None)\n",
            "  133133417485840: TensorSpec(shape=(), dtype=tf.resource, name=None)\n",
            "  133133417486224: TensorSpec(shape=(), dtype=tf.resource, name=None)\n",
            "  133133417490064: TensorSpec(shape=(), dtype=tf.resource, name=None)\n",
            "  133133417483536: TensorSpec(shape=(), dtype=tf.resource, name=None)\n",
            "  133133417487568: TensorSpec(shape=(), dtype=tf.resource, name=None)\n",
            "  133133417487952: TensorSpec(shape=(), dtype=tf.resource, name=None)\n",
            "  133133417487184: TensorSpec(shape=(), dtype=tf.resource, name=None)\n",
            "  133133417485456: TensorSpec(shape=(), dtype=tf.resource, name=None)\n",
            "  133133417487760: TensorSpec(shape=(), dtype=tf.resource, name=None)\n",
            "  133133417490448: TensorSpec(shape=(), dtype=tf.resource, name=None)\n",
            "  133133417489680: TensorSpec(shape=(), dtype=tf.resource, name=None)\n",
            "  133133417488336: TensorSpec(shape=(), dtype=tf.resource, name=None)\n",
            "  133133417490256: TensorSpec(shape=(), dtype=tf.resource, name=None)\n",
            "  133133417488720: TensorSpec(shape=(), dtype=tf.resource, name=None)\n",
            "  133133417492560: TensorSpec(shape=(), dtype=tf.resource, name=None)\n",
            "  133133417492944: TensorSpec(shape=(), dtype=tf.resource, name=None)\n",
            "  133133417492176: TensorSpec(shape=(), dtype=tf.resource, name=None)\n",
            "  133133417490832: TensorSpec(shape=(), dtype=tf.resource, name=None)\n",
            "  133133417492752: TensorSpec(shape=(), dtype=tf.resource, name=None)\n",
            "  133133417493712: TensorSpec(shape=(), dtype=tf.resource, name=None)\n",
            "  133133417494864: TensorSpec(shape=(), dtype=tf.resource, name=None)\n",
            "  133133417491600: TensorSpec(shape=(), dtype=tf.resource, name=None)\n",
            "  133133626415376: TensorSpec(shape=(), dtype=tf.resource, name=None)\n",
            "  133133417494096: TensorSpec(shape=(), dtype=tf.resource, name=None)\n",
            "  133133417495056: TensorSpec(shape=(), dtype=tf.resource, name=None)\n",
            "  133133417496016: TensorSpec(shape=(), dtype=tf.resource, name=None)\n",
            "  133133417493328: TensorSpec(shape=(), dtype=tf.resource, name=None)\n",
            "  133133419578192: TensorSpec(shape=(), dtype=tf.resource, name=None)\n",
            "  133133419577616: TensorSpec(shape=(), dtype=tf.resource, name=None)\n",
            "  133133417496400: TensorSpec(shape=(), dtype=tf.resource, name=None)\n",
            "  133133419577424: TensorSpec(shape=(), dtype=tf.resource, name=None)\n",
            "  133133419581264: TensorSpec(shape=(), dtype=tf.resource, name=None)\n",
            "  133133419582416: TensorSpec(shape=(), dtype=tf.resource, name=None)\n",
            "  133133419578960: TensorSpec(shape=(), dtype=tf.resource, name=None)\n",
            "  133133419580112: TensorSpec(shape=(), dtype=tf.resource, name=None)\n",
            "  133133419580496: TensorSpec(shape=(), dtype=tf.resource, name=None)\n",
            "  133133419578576: TensorSpec(shape=(), dtype=tf.resource, name=None)\n",
            "  133133419579344: TensorSpec(shape=(), dtype=tf.resource, name=None)\n",
            "  133133419580304: TensorSpec(shape=(), dtype=tf.resource, name=None)\n",
            "  133133419582800: TensorSpec(shape=(), dtype=tf.resource, name=None)\n",
            "  133133419580880: TensorSpec(shape=(), dtype=tf.resource, name=None)\n",
            "  133133419581648: TensorSpec(shape=(), dtype=tf.resource, name=None)\n",
            "  133133419582608: TensorSpec(shape=(), dtype=tf.resource, name=None)\n",
            "  133133419583568: TensorSpec(shape=(), dtype=tf.resource, name=None)\n",
            "  133133419584720: TensorSpec(shape=(), dtype=tf.resource, name=None)\n",
            "  133133419585104: TensorSpec(shape=(), dtype=tf.resource, name=None)\n",
            "  133133419583184: TensorSpec(shape=(), dtype=tf.resource, name=None)\n",
            "  133133419583952: TensorSpec(shape=(), dtype=tf.resource, name=None)\n",
            "  133133419584912: TensorSpec(shape=(), dtype=tf.resource, name=None)\n",
            "  133133419585872: TensorSpec(shape=(), dtype=tf.resource, name=None)\n",
            "  133133419587024: TensorSpec(shape=(), dtype=tf.resource, name=None)\n",
            "  133133419587408: TensorSpec(shape=(), dtype=tf.resource, name=None)\n",
            "  133133419585488: TensorSpec(shape=(), dtype=tf.resource, name=None)\n",
            "  133133419586256: TensorSpec(shape=(), dtype=tf.resource, name=None)\n",
            "  133133419587216: TensorSpec(shape=(), dtype=tf.resource, name=None)\n",
            "  133133419588176: TensorSpec(shape=(), dtype=tf.resource, name=None)\n",
            "  133133419589328: TensorSpec(shape=(), dtype=tf.resource, name=None)\n",
            "  133133419589712: TensorSpec(shape=(), dtype=tf.resource, name=None)\n",
            "  133133419587792: TensorSpec(shape=(), dtype=tf.resource, name=None)\n",
            "  133133419588560: TensorSpec(shape=(), dtype=tf.resource, name=None)\n",
            "  133133419589520: TensorSpec(shape=(), dtype=tf.resource, name=None)\n",
            "  133133419592784: TensorSpec(shape=(), dtype=tf.resource, name=None)\n",
            "  133133419592400: TensorSpec(shape=(), dtype=tf.resource, name=None)\n",
            "  133133419590480: TensorSpec(shape=(), dtype=tf.resource, name=None)\n",
            "  133133419591632: TensorSpec(shape=(), dtype=tf.resource, name=None)\n",
            "  133133419592016: TensorSpec(shape=(), dtype=tf.resource, name=None)\n",
            "  133133419590096: TensorSpec(shape=(), dtype=tf.resource, name=None)\n",
            "  133133419590864: TensorSpec(shape=(), dtype=tf.resource, name=None)\n",
            "  133133419591824: TensorSpec(shape=(), dtype=tf.resource, name=None)\n",
            "  133133416399888: TensorSpec(shape=(), dtype=tf.resource, name=None)\n",
            "  133133416399120: TensorSpec(shape=(), dtype=tf.resource, name=None)\n",
            "  133133419593168: TensorSpec(shape=(), dtype=tf.resource, name=None)\n",
            "  133133416398928: TensorSpec(shape=(), dtype=tf.resource, name=None)\n",
            "  133133416400272: TensorSpec(shape=(), dtype=tf.resource, name=None)\n",
            "  133133416401424: TensorSpec(shape=(), dtype=tf.resource, name=None)\n",
            "  133133416401808: TensorSpec(shape=(), dtype=tf.resource, name=None)\n",
            "  133133416399696: TensorSpec(shape=(), dtype=tf.resource, name=None)\n",
            "  133133416400656: TensorSpec(shape=(), dtype=tf.resource, name=None)\n",
            "  133133416401616: TensorSpec(shape=(), dtype=tf.resource, name=None)\n",
            "  133133416402576: TensorSpec(shape=(), dtype=tf.resource, name=None)\n",
            "  133133416403728: TensorSpec(shape=(), dtype=tf.resource, name=None)\n",
            "  133133416404112: TensorSpec(shape=(), dtype=tf.resource, name=None)\n",
            "  133133416402192: TensorSpec(shape=(), dtype=tf.resource, name=None)\n",
            "  133133416402960: TensorSpec(shape=(), dtype=tf.resource, name=None)\n",
            "  133133416403920: TensorSpec(shape=(), dtype=tf.resource, name=None)\n",
            "  133133416404880: TensorSpec(shape=(), dtype=tf.resource, name=None)\n",
            "  133133416406032: TensorSpec(shape=(), dtype=tf.resource, name=None)\n"
          ]
        }
      ]
    }
  ]
}